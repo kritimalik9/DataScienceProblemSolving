{
 "cells": [
  {
   "cell_type": "code",
   "execution_count": 2,
   "id": "06e4183a-59e6-4d8d-8a93-dad4ed7fcbdc",
   "metadata": {},
   "outputs": [],
   "source": [
    "import seaborn"
   ]
  },
  {
   "cell_type": "code",
   "execution_count": 12,
   "id": "20ee8dc5-2462-462c-8fb1-aa6062635388",
   "metadata": {},
   "outputs": [
    {
     "name": "stdout",
     "output_type": "stream",
     "text": [
      "0     f\n",
      "1     f\n",
      "2     f\n",
      "3     e\n",
      "4     f\n",
      "5     e\n",
      "6     d\n",
      "7     e\n",
      "8     h\n",
      "9     g\n",
      "10    e\n",
      "11    a\n",
      "12    c\n",
      "13    b\n",
      "14    a\n",
      "15    b\n",
      "16    f\n",
      "17    a\n",
      "18    e\n",
      "19    f\n",
      "20    c\n",
      "21    h\n",
      "22    b\n",
      "23    e\n",
      "24    c\n",
      "25    g\n",
      "26    d\n",
      "27    f\n",
      "28    f\n",
      "29    e\n",
      "dtype: object\n"
     ]
    },
    {
     "data": {
      "text/plain": [
       "f    8\n",
       "e    7\n",
       "a    3\n",
       "c    3\n",
       "b    3\n",
       "d    2\n",
       "h    2\n",
       "g    2\n",
       "Name: count, dtype: int64"
      ]
     },
     "execution_count": 12,
     "metadata": {},
     "output_type": "execute_result"
    }
   ],
   "source": [
    "import pandas as pd\n",
    "import numpy as np\n",
    "ser = pd.Series(np.take(list('abcdefgh'), np.random.randint(8, size=30)))\n",
    "print(ser)\n",
    "ser.value_counts()"
   ]
  },
  {
   "cell_type": "code",
   "execution_count": 14,
   "id": "e307388b-ca38-465e-b36b-8a7f58467605",
   "metadata": {},
   "outputs": [
    {
     "name": "stdout",
     "output_type": "stream",
     "text": [
      "0     a\n",
      "1     b\n",
      "2     c\n",
      "3     e\n",
      "4     d\n",
      "5     f\n",
      "6     g\n",
      "7     h\n",
      "8     i\n",
      "9     j\n",
      "10    k\n",
      "11    l\n",
      "12    m\n",
      "13    n\n",
      "14    o\n",
      "15    p\n",
      "16    q\n",
      "17    r\n",
      "18    s\n",
      "19    t\n",
      "20    u\n",
      "21    v\n",
      "22    w\n",
      "23    x\n",
      "24    y\n",
      "25    z\n",
      "dtype: object\n"
     ]
    },
    {
     "data": {
      "text/plain": [
       "0      0\n",
       "1      1\n",
       "2      2\n",
       "3      3\n",
       "4      4\n",
       "5      5\n",
       "6      6\n",
       "7      7\n",
       "8      8\n",
       "9      9\n",
       "10    10\n",
       "11    11\n",
       "12    12\n",
       "13    13\n",
       "14    14\n",
       "15    15\n",
       "16    16\n",
       "17    17\n",
       "18    18\n",
       "19    19\n",
       "20    20\n",
       "21    21\n",
       "22    22\n",
       "23    23\n",
       "24    24\n",
       "25    25\n",
       "dtype: int64"
      ]
     },
     "execution_count": 14,
     "metadata": {},
     "output_type": "execute_result"
    }
   ],
   "source": [
    "ser1 = pd.Series(list('abcedfghijklmnopqrstuvwxyz'))\n",
    "print(ser1)\n",
    "ser2 = pd.Series(np.arange(26))\n",
    "ser2"
   ]
  },
  {
   "cell_type": "code",
   "execution_count": null,
   "id": "b5d5cfe6-b8ab-4d01-80ab-52355879929c",
   "metadata": {},
   "outputs": [],
   "source": [
    "\n",
    "# 1. Python dict, ndarray and series - accepted as input by DataFrame\n",
    "# 2. Apply fn in Pandas lib allows you to manipulate data and create new variables\n",
    "# 3. to_text is an invalid writer fn in Pandas\n",
    "# 4. Both Series and ndarrays can be passed as arguments to Numpy functions\n",
    "# 5. The major difference between Series and ndarray is that the data is arranged based on label in Series, when Series is operated on.\n",
    "# 6. A DataFrame is NOT similar to a fixed-size dict\n",
    "# 7. Q:\n",
    "# dataset = np.array(['paul', 'jacob', 'vince', 'paul', 'miky', 'jacob', 'warren'])\n",
    "# new_var = (dataset == 'paul') | (dataset == 'jacob')\n",
    "# Out:\n",
    "# [ True True False True False True False]\n",
    "# 8. Q:\n",
    "# series = [[23,45,12,679], [14,48,69,38]]\n",
    "# new_series = np.array(series)\n",
    "# print (new_series.ndim)\n",
    "# print (new_series.shape)\n",
    "# print (new_series.dtype)\n",
    "# Out:\n",
    "# 2 (2, 4) int32\n",
    "# 9. Q.\n",
    "# di = {'one' : np.random.rand(10),\n",
    "#      'two' : np.random.rand(10)}\n",
    "# df = pd.DataFrame(di)\n",
    "# Plot this df\n",
    "# Out:\n",
    "# df.plot(style=['o','rx'])\n",
    "# 10. Q:\n",
    "# Which of these methods can be used to check if a dataframe has any missing values?\n",
    "# df = pd.read_csv(‘any_randon_csv_file.csv’)\n",
    "# Out:\n",
    "# df.isnull().values.any()\n",
    "# df.isnull().all()\n",
    "# 11. Q:\n",
    "# Which of the following options can be used to combine many series to form a dataframe?\n",
    "# ser1 = pd.Series(list('abcedfghijklmnopqrstuvwxyz'))\n",
    "# ser2 = pd.Series(np.arange(26))\n",
    "# Out:\n",
    "# df = pd.concat([ser1, ser2], axis=1)\n",
    "# df = pd.DataFrame({'col1': ser1, 'col2': ser2})\n",
    "# 12. Q.\n",
    "# Calculte the frequency counts of each unique value in ser.\n",
    "# ser = pd.Series(np.take(list('abcdefgh'), np.random.randint(8, size=30)))\n",
    "# Out:\n",
    "# ser.value_counts()\n"
   ]
  }
 ],
 "metadata": {
  "kernelspec": {
   "display_name": "Python 3 (ipykernel)",
   "language": "python",
   "name": "python3"
  },
  "language_info": {
   "codemirror_mode": {
    "name": "ipython",
    "version": 3
   },
   "file_extension": ".py",
   "mimetype": "text/x-python",
   "name": "python",
   "nbconvert_exporter": "python",
   "pygments_lexer": "ipython3",
   "version": "3.11.5"
  }
 },
 "nbformat": 4,
 "nbformat_minor": 5
}
