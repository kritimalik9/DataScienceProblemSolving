{
 "cells": [
  {
   "cell_type": "code",
   "execution_count": null,
   "id": "da02b387-d5c9-43d8-a2e1-27786812a693",
   "metadata": {},
   "outputs": [],
   "source": [
    "class Solution:\n",
    "    # @param A : integer\n",
    "    # @return an integer\n",
    "    def isPrime(self, A):\n",
    "        return self.isPrimeCheck(A)\n",
    "    def isPrimeCheck(self, A):\n",
    "        divisor = 2\n",
    "        if A == 1:\n",
    "            return 0\n",
    "        maxDivisor = A**0.5\n",
    "        while(divisor <= maxDivisor and A != 2):\n",
    "            if A % divisor == 0:\n",
    "                return 0\n",
    "            divisor = divisor + 1\n",
    "        return 1\n",
    "def checkPrime():\n",
    "    num = int(input().strip())\n",
    "    sol = Solution()\n",
    "    if(sol.isPrimeCheck(num)):\n",
    "        return \"Prime\"\n",
    "    return \"Not Prime\"\n",
    "\n",
    "print(checkPrime())"
   ]
  },
  {
   "cell_type": "code",
   "execution_count": null,
   "id": "979e8cfd-1890-44e4-acb3-86d72d2945ed",
   "metadata": {},
   "outputs": [],
   "source": [
    "class SolutionPrime:\n",
    "    # @param A : integer\n",
    "    # @return an integer\n",
    "    def isPrime(self, A):\n",
    "        return self.isPrimeCheck(A)\n",
    "    def isPrimeCheck(self, A):\n",
    "        divisor = 2\n",
    "        if A == 1:\n",
    "            return 0\n",
    "        maxDivisor = A**0.5\n",
    "        while(divisor <= maxDivisor and A != 2):\n",
    "            if A % divisor == 0:\n",
    "                return 0\n",
    "            divisor = divisor + 1\n",
    "        return 1\n",
    "def generatePrimes():\n",
    "    T = int(input().strip())\n",
    "    # print(T)\n",
    "    tcList = [] \n",
    "    for i in range(T):\n",
    "        m, n = tuple(input().strip().split(' '))\n",
    "        # print(f'm = {m}, n = {n}')\n",
    "        tcList.append(tuple((m,n)))\n",
    "    # print(tcList)\n",
    "\n",
    "    sol = SolutionPrime()\n",
    "    result = list()\n",
    "    for tc in tcList:\n",
    "        result.append(list())\n",
    "        rmvdSet = set()\n",
    "        m = int(tc[0])\n",
    "        n = int(tc[1])\n",
    "        # print(type(val))\n",
    "        val = 2\n",
    "        while(val <= n): # sqrt is sufficient too - but then need a big buffer to store output\n",
    "            if val == 1:\n",
    "                val = val + 1\n",
    "                continue\n",
    "            # print(f'val is {val}')\n",
    "            if val in rmvdSet:\n",
    "                val = val + 1\n",
    "                continue\n",
    "            if(sol.isPrimeCheck(val) == 0):\n",
    "                print(f'/***DEBUG {val} WE SHOULD NOT ENTER HERE - NOT REQUIRED***/')\n",
    "                val = val + 1\n",
    "                continue\n",
    "            nonPrime = val * 2\n",
    "            while(nonPrime <= n):\n",
    "                rmvdSet.add(nonPrime)\n",
    "                nonPrime = nonPrime + val\n",
    "            if val >= m:\n",
    "                print(f'{val} ', end='')\n",
    "            val = val + 1\n",
    "        print(f'\\n', end='')\n",
    "\n",
    "generatePrimes()"
   ]
  },
  {
   "cell_type": "code",
   "execution_count": null,
   "id": "ba07e5f9-de74-4d16-b846-cc9af8514fa0",
   "metadata": {},
   "outputs": [],
   "source": [
    "def mergeSort(nums):\n",
    "    return mergeSortImpl(nums, 0, len(nums)-1)\n",
    "# 5 4 3 1 0 6 - Pivot 0\n",
    "# 0 4 3 1 5 6\n",
    "#################\n",
    "# 0 \n",
    "# 4 3 1 5 6 - choose new random pivot here\n",
    "def mergeSortImpl(nums, start, end):\n",
    "    # print(f'nums = {nums}, start = {start}, end = {end}')\n",
    "    if(start >= end):\n",
    "        return [nums[end]]\n",
    "    mid = int((start + end) / 2)\n",
    "    first = mergeSortImpl(nums, start, mid)\n",
    "    second = mergeSortImpl(nums, mid + 1, end)\n",
    "    merge = []\n",
    "    i = j = 0\n",
    "    # for list1elem, list2elem in zip(first, second):\n",
    "    while i < len(first) and j < len(second):\n",
    "        if(first[i] <= second[j]):\n",
    "            merge.append(first[i])\n",
    "            i = i + 1\n",
    "        else:\n",
    "            merge.append(second[j])\n",
    "            j = j + 1\n",
    "    lastIdx = len(merge) - 1\n",
    "    # print(f'lastIdx = {lastIdx}')\n",
    "    while i < len(first):\n",
    "        merge.append(first[i])\n",
    "        i = i + 1\n",
    "    while j < len(second):\n",
    "        merge.append(second[j])\n",
    "        j = j + 1\n",
    "    # print(merge)\n",
    "    return merge\n",
    "\n",
    "numElems = int(input().strip())\n",
    "nums = [int(x) for x in input().strip().split(' ')]\n",
    "sorted_nums = mergeSort(nums)\n",
    "for elem in sorted_nums:\n",
    "    print(f'{elem} ', end = ' ')\n"
   ]
  },
  {
   "cell_type": "code",
   "execution_count": null,
   "id": "48ae8236-85e2-4452-93ba-c9b5122b8dda",
   "metadata": {},
   "outputs": [],
   "source": [
    "from typing import List\n",
    "import random\n",
    "class QuickSortSolution:\n",
    "    def sortArray(self, nums: List[int]) -> List[int]:\n",
    "        self.quickSort(nums, 0, len(nums)-1)\n",
    "        # self.quickSort(nums)\n",
    "        return nums\n",
    "\n",
    "    # Quick sort in Python\n",
    "    \n",
    "    # finding the partition point & rearranging the array\n",
    "    def partition(self, array, low, high):\n",
    "    \n",
    "        # selecting the rightmost element as pivot\n",
    "        pivotIdx = random.randrange(low, high)\n",
    "        pivot = array[pivotIdx]\n",
    "        print(f'Enter partition: low - {low}, high - {high}, array = {array}, pivotIdx = {pivotIdx}, pivotVal = {pivot} ')\n",
    "        \n",
    "        # setting the left pointer to point at the lowest index initially\n",
    "        left = low\n",
    "\n",
    "        equal = low\n",
    "        \n",
    "        #setting the left pointer to point at the lowest index initially\n",
    "        right = high\n",
    "\n",
    "        # if left == pivotIdx:\n",
    "        #     left = left + 1\n",
    "\n",
    "        # if right == pivotIdx:\n",
    "        #     right = right - 1\n",
    "        \n",
    "        #running a loop till left is smaller than right\n",
    "        while (left < right):\n",
    "            print(f'Enter partition while: left - {left}, right - {right}, array = {array}, pivotVal = {pivot} ')\n",
    "            #incrementing the value of left until the value at left'th\n",
    "            # index is smaller than pivot\n",
    "            while (left < right and array[left] < pivot):\n",
    "                left = left + 1\n",
    "        \n",
    "            #decrementing the value of right until the value at right'th\n",
    "            #index is greater than pivot\n",
    "            while (left < right and array[right] > pivot):\n",
    "                right = right - 1\n",
    "\n",
    "            # while (array[left] == pivot):\n",
    "            #     left = left + 1\n",
    "\n",
    "            # while (array[right] == pivot):\n",
    "            #     left = left + 1\n",
    "            \n",
    "            if (left < right):\n",
    "                #swapping the elements at left & right index\n",
    "                print(f'before swap: left - {left}, right - {right}, array = {array}, pivotIdx = {pivotIdx}, pivotVal = {pivot} ')\n",
    "                array[left], array[right] = array[right], array[left]\n",
    "                newPivotIdx = pivotIdx\n",
    "                if left == pivotIdx:\n",
    "                    newPivotIdx = right\n",
    "                    print(f'pivotIdx updated = {pivotIdx}, {type(pivotIdx)}, {id(pivotIdx)}')\n",
    "                if right == pivotIdx:\n",
    "                    newPivotIdx = left\n",
    "                    print(f'pivotIdx updated = {pivotIdx}, {type(pivotIdx)}, {id(pivotIdx)}')\n",
    "                pivotIdx = newPivotIdx\n",
    "                left = left + 1\n",
    "                right = right - 1\n",
    "                print(f'pivotIdx updated = {pivotIdx}, {type(pivotIdx)}, {id(pivotIdx)}')\n",
    "                print(f'pivotIdx updated = {pivotIdx}, {type(pivotIdx)}, {id(pivotIdx)}')\n",
    "                print(f'pivotIdx updated = {pivotIdx}, {type(pivotIdx)}, {id(pivotIdx)}')\n",
    "                print(f'after swap: left - {left}, right - {right}, array = {array}, pivotIdx = {pivotIdx}, pivotVal = {pivot}, partitionPnt = {left}, {type(pivotIdx)}, {id(pivotIdx)}')\n",
    "            \n",
    "        # #swapping pivot with the element where left and right meet      \n",
    "        array[left], array[pivotIdx] = array[pivotIdx], array[left]\n",
    "        print(f'Ends partition: left - {left}, right - {right}, array = {array}, pivotIdx = {pivotIdx}, pivotVal = {pivot}, partitionPnt = {left} ')\n",
    "        \n",
    "        # return the partition point\n",
    "        return left\n",
    "    \n",
    "    # function to perform quicksort\n",
    "    def quickSort(self, array, low, high):\n",
    "        if low < high:\n",
    "        \n",
    "            # since this function returns the point where the array is\n",
    "            #partitioned, it is used to track the subarrays/partitions in the\n",
    "            #array\n",
    "            pi = self.partition(array, low, high)\n",
    "            \n",
    "            # recursively calling the function on left subarray\n",
    "            self.quickSort(array, low, pi - 1)\n",
    "            \n",
    "            # recursively calling the function on right subarray\n",
    "            self.quickSort(array, pi + 1, high)\n",
    "\n",
    "testsort = QuickSortSolution()\n",
    "nums = [int(x) for x in input().strip().split(' ')]\n",
    "sortedOut = testsort.sortArray(nums)\n",
    "print(sortedOut)\n",
    "# 5 1 1 2 0 0\n",
    "# [-4, 0, -1, -7, 0, -5, -1, 4, 9, 7]"
   ]
  },
  {
   "cell_type": "code",
   "execution_count": null,
   "id": "07367336-669e-4454-89fb-b056268c4636",
   "metadata": {},
   "outputs": [],
   "source": [
    "# Enter partition: low - 0, high - 9, array = [-4, 0, 7, 4, 9, -5, -1, 0, -7, -1], pivotIdx = 3, pivotVal = 4 \n",
    "# Enter partition while: left - 0, right - 9, array = [-4, 0, 7, 4, 9, -5, -1, 0, -7, -1], pivotVal = 4 \n",
    "# before swap: left - 2, right - 9, array = [-4, 0, 7, 4, 9, -5, -1, 0, -7, -1], pivotIdx = 3, pivotVal = 4 \n",
    "# pivotIdx updated = 3, <class 'int'>, 140223472025904\n",
    "# pivotIdx updated = 3, <class 'int'>, 140223472025904\n",
    "# pivotIdx updated = 3, <class 'int'>, 140223472025904\n",
    "# after swap: left - 3, right - 8, array = [-4, 0, -1, 4, 9, -5, -1, 0, -7, 7], pivotIdx = 3, pivotVal = 4, partitionPnt = 3, <class 'int'>, 140223472025904\n",
    "# Enter partition while: left - 3, right - 8, array = [-4, 0, -1, 4, 9, -5, -1, 0, -7, 7], pivotVal = 4 \n",
    "# before swap: left - 3, right - 8, array = [-4, 0, -1, 4, 9, -5, -1, 0, -7, 7], pivotIdx = 3, pivotVal = 4 \n",
    "# pivotIdx updated = 3, <class 'int'>, 140223472025904\n",
    "# pivotIdx updated = 8, <class 'int'>, 140223472026064\n",
    "# pivotIdx updated = 8, <class 'int'>, 140223472026064\n",
    "# pivotIdx updated = 8, <class 'int'>, 140223472026064\n",
    "# after swap: left - 4, right - 7, array = [-4, 0, -1, -7, 9, -5, -1, 0, 4, 7], pivotIdx = 8, pivotVal = 4, partitionPnt = 4, <class 'int'>, 140223472026064\n",
    "# Enter partition while: left - 4, right - 7, array = [-4, 0, -1, -7, 9, -5, -1, 0, 4, 7], pivotVal = 4 \n",
    "# before swap: left - 4, right - 7, array = [-4, 0, -1, -7, 9, -5, -1, 0, 4, 7], pivotIdx = 8, pivotVal = 4 \n",
    "# pivotIdx updated = 8, <class 'int'>, 140223472026064\n",
    "# pivotIdx updated = 8, <class 'int'>, 140223472026064\n",
    "# pivotIdx updated = 8, <class 'int'>, 140223472026064\n",
    "# after swap: left - 5, right - 6, array = [-4, 0, -1, -7, 0, -5, -1, 9, 4, 7], pivotIdx = 8, pivotVal = 4, partitionPnt = 5, <class 'int'>, 140223472026064\n",
    "# Enter partition while: left - 5, right - 6, array = [-4, 0, -1, -7, 0, -5, -1, 9, 4, 7], pivotVal = 4 \n",
    "# Ends partition: left - 7, right - 6, array = [-4, 0, -1, -7, 0, -5, -1, 4, 9, 7], pivotIdx = 8, pivotVal = 4, partitionPnt = 8 \n",
    "\n",
    "\n"
   ]
  },
  {
   "cell_type": "code",
   "execution_count": null,
   "id": "08592b70-b5e7-43f7-ab9e-b297adfa5621",
   "metadata": {},
   "outputs": [],
   "source": [
    "Enter partition: low - 0, high - 7, array = [-4, 0, -1, -7, 0, -5, -1, 4, 9, 7], pivotIdx = 4, pivotVal = 0 \n",
    "Enter partition while: left - 0, right - 7, array = [-4, 0, -1, -7, 0, -5, -1, 4, 9, 7], pivotVal = 0 \n",
    "Enter partition while: left - 2, right - 6, array = [-4, 0, -1, -7, 0, -5, -1, 4, 9, 7], pivotVal = 0 \n",
    "before swap: left - 4, right - 6, array = [-4, 0, -1, -7, 0, -5, -1, 4, 9, 7], pivotIdx = 4, pivotVal = 0 \n",
    "pivotIdx updated = 4, <class 'int'>, 140223472025936\n",
    "pivotIdx updated = 6, <class 'int'>, 140223472026000\n",
    "pivotIdx updated = 6, <class 'int'>, 140223472026000\n",
    "pivotIdx updated = 6, <class 'int'>, 140223472026000\n",
    "after swap: left - 5, right - 5, array = [-4, 0, -1, -7, -1, -5, 0, 4, 9, 7], pivotIdx = 6, pivotVal = 0, partitionPnt = 5, <class 'int'>, 140223472026000\n",
    "Enter partition while: left - 5, right - 5, array = [-4, 0, -1, -7, -1, -5, 0, 4, 9, 7], pivotVal = 0 \n",
    "Ends partition: left - 6, right - 5, array = [-4, 0, -1, -7, -1, -5, 0, 4, 9, 7], pivotIdx = 6, pivotVal = 0, partitionPnt = 6 \n",
    "Enter partition: low - 0, high - 5, array = [-4, 0, -1, -7, -1, -5, 0, 4, 9, 7], pivotIdx = 2, pivotVal = -1 \n",
    "Enter partition while: left - 0, right - 5, array = [-4, 0, -1, -7, -1, -5, 0, 4, 9, 7], pivotVal = -1 \n",
    "before swap: left - 1, right - 5, array = [-4, 0, -1, -7, -1, -5, 0, 4, 9, 7], pivotIdx = 2, pivotVal = -1 \n",
    "pivotIdx updated = 2, <class 'int'>, 140223472025872\n",
    "pivotIdx updated = 2, <class 'int'>, 140223472025872\n",
    "pivotIdx updated = 2, <class 'int'>, 140223472025872\n",
    "after swap: left - 2, right - 4, array = [-4, -5, -1, -7, -1, 0, 0, 4, 9, 7], pivotIdx = 2, pivotVal = -1, partitionPnt = 2, <class 'int'>, 140223472025872\n",
    "Enter partition while: left - 2, right - 4, array = [-4, -5, -1, -7, -1, 0, 0, 4, 9, 7], pivotVal = -1 \n",
    "before swap: left - 2, right - 4, array = [-4, -5, -1, -7, -1, 0, 0, 4, 9, 7], pivotIdx = 2, pivotVal = -1 \n",
    "pivotIdx updated = 2, <class 'int'>, 140223472025872\n",
    "pivotIdx updated = 4, <class 'int'>, 140223472025936\n",
    "pivotIdx updated = 4, <class 'int'>, 140223472025936\n",
    "pivotIdx updated = 4, <class 'int'>, 140223472025936\n",
    "after swap: left - 3, right - 3, array = [-4, -5, -1, -7, -1, 0, 0, 4, 9, 7], pivotIdx = 4, pivotVal = -1, partitionPnt = 3, <class 'int'>, 140223472025936\n",
    "Enter partition while: left - 3, right - 3, array = [-4, -5, -1, -7, -1, 0, 0, 4, 9, 7], pivotVal = -1 \n",
    "Ends partition: left - 4, right - 3, array = [-4, -5, -1, -7, -1, 0, 0, 4, 9, 7], pivotIdx = 4, pivotVal = -1, partitionPnt = 4 \n",
    "Enter partition: low - 0, high - 3, array = [-4, -5, -1, -7, -1, 0, 0, 4, 9, 7], pivotIdx = 1, pivotVal = -5 \n",
    "Enter partition while: left - 0, right - 3, array = [-4, -5, -1, -7, -1, 0, 0, 4, 9, 7], pivotVal = -5 \n",
    "before swap: left - 0, right - 3, array = [-4, -5, -1, -7, -1, 0, 0, 4, 9, 7], pivotIdx = 1, pivotVal = -5 \n",
    "pivotIdx updated = 1, <class 'int'>, 140223472025840\n",
    "pivotIdx updated = 1, <class 'int'>, 140223472025840\n",
    "pivotIdx updated = 1, <class 'int'>, 140223472025840\n",
    "after swap: left - 1, right - 2, array = [-7, -5, -1, -4, -1, 0, 0, 4, 9, 7], pivotIdx = 1, pivotVal = -5, partitionPnt = 1, <class 'int'>, 140223472025840\n",
    "Enter partition while: left - 1, right - 2, array = [-7, -5, -1, -4, -1, 0, 0, 4, 9, 7], pivotVal = -5 \n",
    "before swap: left - 1, right - 1, array = [-7, -5, -1, -4, -1, 0, 0, 4, 9, 7], pivotIdx = 1, pivotVal = -5 \n",
    "pivotIdx updated = 1, <class 'int'>, 140223472025840\n",
    "pivotIdx updated = 1, <class 'int'>, 140223472025840\n",
    "pivotIdx updated = 1, <class 'int'>, 140223472025840\n",
    "pivotIdx updated = 1, <class 'int'>, 140223472025840\n",
    "pivotIdx updated = 1, <class 'int'>, 140223472025840\n",
    "after swap: left - 2, right - 0, array = [-7, -5, -1, -4, -1, 0, 0, 4, 9, 7], pivotIdx = 1, pivotVal = -5, partitionPnt = 2, <class 'int'>, 140223472025840\n",
    "Ends partition: left - 2, right - 0, array = [-7, -5, -1, -4, -1, 0, 0, 4, 9, 7], pivotIdx = 1, pivotVal = -5, partitionPnt = 1 \n",
    "Enter partition: low - 2, high - 3, array = [-7, -5, -1, -4, -1, 0, 0, 4, 9, 7], pivotIdx = 2, pivotVal = -1 \n",
    "Enter partition while: left - 2, right - 3, array = [-7, -5, -1, -4, -1, 0, 0, 4, 9, 7], pivotVal = -1 \n",
    "before swap: left - 2, right - 3, array = [-7, -5, -1, -4, -1, 0, 0, 4, 9, 7], pivotIdx = 2, pivotVal = -1 \n",
    "pivotIdx updated = 2, <class 'int'>, 140223472025872\n",
    "pivotIdx updated = 3, <class 'int'>, 140223472025904\n",
    "pivotIdx updated = 3, <class 'int'>, 140223472025904\n",
    "pivotIdx updated = 3, <class 'int'>, 140223472025904\n",
    "after swap: left - 3, right - 2, array = [-7, -5, -4, -1, -1, 0, 0, 4, 9, 7], pivotIdx = 3, pivotVal = -1, partitionPnt = 3, <class 'int'>, 140223472025904\n",
    "Ends partition: left - 3, right - 2, array = [-7, -5, -4, -1, -1, 0, 0, 4, 9, 7], pivotIdx = 3, pivotVal = -1, partitionPnt = 3 \n"
   ]
  },
  {
   "cell_type": "code",
   "execution_count": null,
   "id": "1f770ce9-9818-4c59-b84c-c0aee48c2655",
   "metadata": {},
   "outputs": [],
   "source": [
    "for i in range(0):\n",
    "    print(f'value is {i}')"
   ]
  },
  {
   "cell_type": "code",
   "execution_count": null,
   "id": "63620286-bb01-4f73-b00a-c74a0dbd42e1",
   "metadata": {},
   "outputs": [],
   "source": [
    "for i in range(1):\n",
    "    print(f'value is {i}')"
   ]
  },
  {
   "cell_type": "code",
   "execution_count": null,
   "id": "2f0a0324-f359-496f-90e5-c748511b13ac",
   "metadata": {},
   "outputs": [],
   "source": [
    "for i in range(2):\n",
    "    print(f'value is {i}')"
   ]
  },
  {
   "cell_type": "code",
   "execution_count": null,
   "id": "125641f1-d4cf-4170-b63d-711d632569ae",
   "metadata": {},
   "outputs": [],
   "source": [
    "def fn(num_items):\n",
    "    print (num_items)\n",
    "    for i in range(num_items): 0, 1 ,2 3 4\n",
    "        print(f'value of {i}')\n",
    "        if i == 0:\n",
    "            continue\n",
    "        fn(i-1)\n",
    "fn(5)"
   ]
  },
  {
   "cell_type": "code",
   "execution_count": null,
   "id": "9d5cfb31-66b7-4312-a7fc-6fa1ba2e2cee",
   "metadata": {},
   "outputs": [],
   "source": [
    "import numpy as np\n",
    "arr_orig = np.array([[1, 2],\n",
    "                [3, 4]])\n",
    "print(arr_orig)\n",
    "print(arr_orig.shape)\n",
    "new_arr_flatten = arr.flatten() # member fn of numpy obj\n",
    "print(new_arr_flatten)\n",
    "print(new_arr_flatten.shape)\n",
    "new_arr_flatten[1] = 10\n",
    "print(f'new_arr is {new_arr_flatten}')\n",
    "print(f'arr is {arr_orig}')"
   ]
  },
  {
   "cell_type": "code",
   "execution_count": null,
   "id": "3b7acbbc-acf5-4c18-a763-0c8b59ffd918",
   "metadata": {},
   "outputs": [],
   "source": [
    "arr_orig2 = np.array([[1, 2],\n",
    "                [3, 4]])\n",
    "print(arr_orig2)\n",
    "print(arr_orig2.shape)\n",
    "new_arr_ravel = np.ravel(arr_orig2) # lib fn of numpy class? \n",
    "print(new_arr_ravel)\n",
    "print(new_arr_ravel.shape)\n",
    "new_arr_ravel[1] = 20\n",
    "print(f'new_arr is {new_arr_ravel}')\n",
    "print(f'arr is {arr_orig2}')"
   ]
  },
  {
   "cell_type": "code",
   "execution_count": null,
   "id": "4a711b56-aa66-4dbf-b3e8-8cc372f0f5fc",
   "metadata": {},
   "outputs": [],
   "source": [
    "arr_orig3 = np.array([1, 2, 5, 6])\n",
    "arr_orig4 = np.array([3, 4, 10, 11])\n",
    "print(arr_orig3)\n",
    "print(arr_orig3.shape)\n",
    "col_stack_arr = np.column_stack((arr_orig3, arr_orig4))\n",
    "print(col_stack_arr)"
   ]
  },
  {
   "cell_type": "code",
   "execution_count": null,
   "id": "f25975ba-c27c-47b4-9ed5-1f2dacf6af65",
   "metadata": {},
   "outputs": [],
   "source": [
    "arr_orig5 = np.array([1, 2, 5, 6, 0, 3])\n",
    "arr_reshaped = arr_orig5.reshape((2, 3))\n",
    "print(arr_orig5)\n",
    "print(arr_orig5.shape)\n",
    "print(arr_reshaped)\n",
    "print(arr_reshaped.shape)\n",
    "print(arr_orig5)\n",
    "print(arr_orig5.shape)\n",
    "arr_resize = arr_orig5.resize((2, 3))\n",
    "print(arr_orig5)\n",
    "print(arr_orig5.shape)\n",
    "print(arr_resize)"
   ]
  },
  {
   "cell_type": "code",
   "execution_count": null,
   "id": "86027180-409d-45ed-953e-6b340e06135a",
   "metadata": {},
   "outputs": [],
   "source": [
    "# Get an array with same content\n",
    "\n",
    "arr_test_copyto = np.array([[5, 7],\n",
    "                   [2, 3]])\n",
    "# arr_dst_copyto = np.ones((2, 2))\n",
    "arr_dst_copyto = np.array([[0, 0],\n",
    "                   [0, 0]])\n",
    "print(arr_dst_copyto)\n",
    "np.copyto(arr_dst_copyto, arr_test_copyto) # arr_dst_copyto MUST be a ndarray\n",
    "print(arr_dst_copyto)\n",
    "print('################################')\n",
    "################################\n",
    "arr_test_copy = np.array([[[1, 2, 3],\n",
    "                             [4, 5, 6],\n",
    "                             [7, 8, 9]],\n",
    "                            [[1, 0, 0],\n",
    "                             [0, 1, 0],\n",
    "                             [0, 0, 1]]])\n",
    "arr_dst_copy = arr_test_copy.copy()\n",
    "print(arr_dst_copy)\n",
    "print(arr_dst_copy.base) # find what arr_dst_copy holds before this copy?\n",
    "arr_dst_copy[1][1][0] = -1\n",
    "print(f\"arr_test_copy = {arr_test_copy}\")\n",
    "print(f\"Copy result: arr_dst_copy = {arr_dst_copy}\")\n",
    "print('################################')\n",
    "###############################\n",
    "arr_test_view = np.array([[[7, 2, 3],\n",
    "                             [4, 5, 6],\n",
    "                             [7, 8, 9]],\n",
    "                            [[1, 0, 0],\n",
    "                             [0, 1, 0],\n",
    "                             [0, 0, 1]]])\n",
    "arr_dst_view = arr_test_view.view()\n",
    "print(arr_dst_view)\n",
    "print(f'base = {arr_dst_view.base}') # find what arr_dst_copy holds before this copy?\n",
    "arr_dst_view[1][1][0] = -1\n",
    "print(f\"arr_test_view = {arr_test_view}\")\n",
    "print(f\"View result: arr_dst_view = {arr_dst_view}\")\n",
    "print('################################')\n",
    "\n"
   ]
  },
  {
   "cell_type": "code",
   "execution_count": null,
   "id": "d30b0a04-c265-489b-ae80-d29d2407eb08",
   "metadata": {},
   "outputs": [],
   "source": [
    "# both help create a 1d array\n",
    "# column_stack\n",
    "# resize modify the array itself, reshape returns array with modified shape\n",
    "# copy copyto view gives array of same content"
   ]
  },
  {
   "cell_type": "code",
   "execution_count": null,
   "id": "05d30b13-a2a8-47b3-bc73-6eb17e8371f3",
   "metadata": {},
   "outputs": [],
   "source": [
    "a = np.arange(0,9).reshape(3,3)\n",
    "print(a)\n",
    "print(a.size) # find the numbers of elements in the array.\n",
    "print(a.shape)\n",
    "list1 = a.tolist() # member fn \n",
    "print(list1)\n",
    "# list2 = np.lolist(a) # AttributeError: module 'numpy' has no attribute 'lolist'"
   ]
  },
  {
   "cell_type": "code",
   "execution_count": null,
   "id": "8ae15910-fbe5-4fb2-9127-998c846a77d6",
   "metadata": {},
   "outputs": [],
   "source": [
    "a = np.random.randint(0,15, size=(4,4))\n",
    "print(a)\n",
    "filteredlist1 = a[np.where((a >= 5) & (a <= 10))]\n",
    "print(filteredlist1)\n",
    "filteredlist2 = a[((a >= 5) & (a <= 10))]\n",
    "print(filteredlist2)"
   ]
  },
  {
   "cell_type": "code",
   "execution_count": null,
   "id": "553c81fa-c3ee-4396-b3b7-37aca386818a",
   "metadata": {},
   "outputs": [],
   "source": [
    "a = np.random.randint(0,30, size=(30,1))\n",
    "print(a)\n",
    "a = a.reshape(6,5) # quiz answer \n",
    "print(a)\n",
    "a[0][0] = -1\n",
    "print(a)"
   ]
  },
  {
   "cell_type": "code",
   "execution_count": null,
   "id": "1ff13a35-cf3a-40cd-b9ce-fa8783bcb8cf",
   "metadata": {},
   "outputs": [],
   "source": [
    "a = np.random.randint(0,30, size=(30,1))\n",
    "print(a)\n",
    "a.resize(6,5) # -> returns nothing\n",
    "print(a)\n",
    "a[0][0] = -1\n",
    "print(a)"
   ]
  },
  {
   "cell_type": "code",
   "execution_count": null,
   "id": "ffcfd0d0-4610-4e3c-bbb6-8e4843f7445f",
   "metadata": {},
   "outputs": [],
   "source": [
    "a = np.random.randint(0,30, size=(30,1))\n",
    "print(a)\n",
    "a = a.reshape(-1,5)\n",
    "print(a)\n",
    "a[0][0] = -1\n",
    "print(a)"
   ]
  },
  {
   "cell_type": "code",
   "execution_count": null,
   "id": "ccf8f51c-0296-4426-b1e6-a7a86e0eafd6",
   "metadata": {},
   "outputs": [],
   "source": [
    "a = np.arange(1,17).reshape(4,4)\n",
    "b = np.arange(17,33).reshape(4,4)\n",
    "print(a)\n",
    "print(b)\n",
    "option1 = np.hstack((a,b))\n",
    "print(option1)\n",
    "option2 = np.concatenate((a,b), axis = 0)\n",
    "print(option2)\n",
    "option3 = np.concatenate((a,b), axis = 1)\n",
    "print(option3)"
   ]
  },
  {
   "cell_type": "code",
   "execution_count": null,
   "id": "4c3933b4-ddf9-48fc-be8e-9418b7cd262d",
   "metadata": {},
   "outputs": [],
   "source": [
    "img = np.arange(3*3*3).reshape(3,3,3)\n",
    "print(img)\n",
    "print(img[::-1])\n",
    "print(img[[0,1,0], :, :])\n",
    "print(img[[2,1,0], :, :])"
   ]
  },
  {
   "cell_type": "code",
   "execution_count": 141,
   "id": "05bf9ce7-17da-4d86-9f49-f2c84e29ceeb",
   "metadata": {},
   "outputs": [
    {
     "name": "stdout",
     "output_type": "stream",
     "text": [
      "(1, 1, 1)\n",
      "[[[255 255 255]\n",
      "  [  0   0   0]\n",
      "  [  0   0   0]\n",
      "  [  0   0   0]]\n",
      "\n",
      " [[  0   0   0]\n",
      "  [255 255 255]\n",
      "  [  0   0   0]\n",
      "  [  0   0   0]]\n",
      "\n",
      " [[  0   0   0]\n",
      "  [  0   0   0]\n",
      "  [255 255 255]\n",
      "  [  0   0   0]]\n",
      "\n",
      " [[  0   0   0]\n",
      "  [  0   0   0]\n",
      "  [  0   0   0]\n",
      "  [255 255 255]]]\n",
      "(4, 4, 3)\n"
     ]
    },
    {
     "data": {
      "image/png": "[encoded data removed]",
      "text/plain": [
       "<Figure size 640x480 with 1 Axes>"
      ]
     },
     "metadata": {},
     "output_type": "display_data"
    }
   ],
   "source": [
    "import matplotlib.pyplot as plt\n",
    "img = np.array([[[0]]])\n",
    "plt.imshow(img)\n",
    "print(img.shape)\n",
    "# wont work\n",
    "# Invalid shape (1, 1, 2) for image data\n",
    "# img = np.array([[[0,0]]])\n",
    "# plt.imshow(img)\n",
    "# print(img.shape)\n",
    "############################################\n",
    "# TypeError: Invalid shape (2, 2, 2) for image data\n",
    "####################################################\n",
    "img = np.array([[[255,255,255],\n",
    "                [0,0,0],\n",
    "                [0,0,0],\n",
    "                [0,0,0]],\n",
    "                [[0,0,0],\n",
    "                [255,255,255],\n",
    "                [0,0,0],\n",
    "                [0,0,0]],\n",
    "                [[0,0,0],\n",
    "                [0,0,0],\n",
    "                [255,255,255],\n",
    "                [0,0,0]],\n",
    "                [[0,0,0],\n",
    "                [0,0,0],\n",
    "                [0,0,0],\n",
    "                [255,255,255]]])\n",
    "print(img)\n",
    "plt.imshow(img)\n",
    "print(img.shape)"
   ]
  },
  {
   "cell_type": "code",
   "execution_count": 142,
   "id": "a0ac87ea-7f8f-4b99-b6d7-e6535cdbab3e",
   "metadata": {},
   "outputs": [
    {
     "name": "stdout",
     "output_type": "stream",
     "text": [
      "[[[255 255 255]\n",
      "  [  0   0   0]\n",
      "  [  0   0   0]\n",
      "  [  0   0   0]]\n",
      "\n",
      " [[  0   0   0]\n",
      "  [255 255 255]\n",
      "  [  0   0   0]\n",
      "  [  0   0   0]]\n",
      "\n",
      " [[  0   0   0]\n",
      "  [  0   0   0]\n",
      "  [255 255 255]\n",
      "  [  0   0   0]]\n",
      "\n",
      " [[  0   0   0]\n",
      "  [  0   0   0]\n",
      "  [  0   0   0]\n",
      "  [255 255 255]]]\n",
      "*********************************\n",
      "[[[255 255 255]\n",
      "  [  0   0   0]\n",
      "  [  0   0   0]\n",
      "  [  0   0   0]]\n",
      "\n",
      " [[  0   0   0]\n",
      "  [  0   0   0]\n",
      "  [255 255 255]\n",
      "  [  0   0   0]]]\n",
      "*********************************\n",
      "(2, 4, 3)\n"
     ]
    },
    {
     "data": {
      "text/plain": [
       "<matplotlib.image.AxesImage at 0x11c4837d0>"
      ]
     },
     "execution_count": 142,
     "metadata": {},
     "output_type": "execute_result"
    },
    {
     "data": {
      "image/png": "[encoded data removed]",
      "text/plain": [
       "<Figure size 640x480 with 1 Axes>"
      ]
     },
     "metadata": {},
     "output_type": "display_data"
    }
   ],
   "source": [
    "print(img[::1, ::1, ::1])\n",
    "print(\"*********************************\")\n",
    "print(img[::2, ::1, ::1]) # kth row, row, col -> 2,4,3\n",
    "print(\"*********************************\")\n",
    "print(img[::3, ::1, ::1].shape)\n",
    "plt.imshow(img[::3, ::1, ::1])\n",
    "# print(img.shape)"
   ]
  },
  {
   "cell_type": "code",
   "execution_count": 145,
   "id": "e17a573e-0473-4c95-b6c1-f2039f170455",
   "metadata": {},
   "outputs": [
    {
     "name": "stdout",
     "output_type": "stream",
     "text": [
      "*********************************\n",
      "[[[255 255 255]\n",
      "  [255   0   0]\n",
      "  [255   0   0]\n",
      "  [255   0   0]]\n",
      "\n",
      " [[255   0   0]\n",
      "  [255 255 255]\n",
      "  [255   0   0]\n",
      "  [255   0   0]]\n",
      "\n",
      " [[255   0   0]\n",
      "  [255   0   0]\n",
      "  [255 255 255]\n",
      "  [255   0   0]]\n",
      "\n",
      " [[255   0   0]\n",
      "  [255   0   0]\n",
      "  [255   0   0]\n",
      "  [255 255 255]]]\n"
     ]
    },
    {
     "data": {
      "image/png": "[encoded data removed]",
      "text/plain": [
       "<Figure size 640x480 with 1 Axes>"
      ]
     },
     "metadata": {},
     "output_type": "display_data"
    }
   ],
   "source": [
    "print(\"*********************************\")\n",
    "img[:, :, 0] = 255 # third section holds channel\n",
    "print(img)\n",
    "plt.imshow(img)\n",
    "plt.show()"
   ]
  },
  {
   "cell_type": "code",
   "execution_count": 147,
   "id": "0d443561-6605-44dd-8aee-19e9ce25f21d",
   "metadata": {},
   "outputs": [
    {
     "name": "stdout",
     "output_type": "stream",
     "text": [
      "*********************************\n",
      "[[[255 255 255]\n",
      "  [255   0   0]\n",
      "  [255   0   0]\n",
      "  [255   0   0]]\n",
      "\n",
      " [[  0   0   0]\n",
      "  [  0 255 255]\n",
      "  [255   0   0]\n",
      "  [255   0   0]]\n",
      "\n",
      " [[  0   0   0]\n",
      "  [  0   0   0]\n",
      "  [255 255 255]\n",
      "  [255   0   0]]\n",
      "\n",
      " [[255   0   0]\n",
      "  [255   0   0]\n",
      "  [255   0   0]\n",
      "  [255 255 255]]]\n"
     ]
    },
    {
     "data": {
      "image/png": "[encoded data removed]",
      "text/plain": [
       "<Figure size 640x480 with 1 Axes>"
      ]
     },
     "metadata": {},
     "output_type": "display_data"
    }
   ],
   "source": [
    "print(\"*********************************\")\n",
    "img[1:3, 0:2, 0] = 0 # third section holds channel\n",
    "print(img)\n",
    "plt.imshow(img)\n",
    "plt.show()\n"
   ]
  },
  {
   "cell_type": "code",
   "execution_count": 148,
   "id": "3ce860ef-3832-496c-acb3-d0e9460cb251",
   "metadata": {},
   "outputs": [
    {
     "data": {
      "text/plain": [
       "<matplotlib.image.AxesImage at 0x11d0837d0>"
      ]
     },
     "execution_count": 148,
     "metadata": {},
     "output_type": "execute_result"
    },
    {
     "data": {
      "image/png": "[encoded data removed]",
      "text/plain": [
       "<Figure size 640x480 with 1 Axes>"
      ]
     },
     "metadata": {},
     "output_type": "display_data"
    }
   ],
   "source": [
    "T = np.zeros((5,5,3), dtype = 'uint8')\n",
    "plt.imshow(T)"
   ]
  },
  {
   "cell_type": "code",
   "execution_count": 167,
   "id": "1009872c-647d-4498-8422-ad2091c13495",
   "metadata": {},
   "outputs": [
    {
     "data": {
      "text/plain": [
       "<matplotlib.image.AxesImage at 0x11d2894d0>"
      ]
     },
     "execution_count": 167,
     "metadata": {},
     "output_type": "execute_result"
    },
    {
     "data": {
      "image/png": "[encoded data removed]",
      "text/plain": [
       "<Figure size 640x480 with 1 Axes>"
      ]
     },
     "metadata": {},
     "output_type": "display_data"
    }
   ],
   "source": [
    "T = np.zeros((5,5,3), dtype = 'uint8')\n",
    "T[:, :, 1:2] = 255\n",
    "plt.imshow(T)"
   ]
  },
  {
   "cell_type": "code",
   "execution_count": 154,
   "id": "40953381-ded7-4bb1-8afb-6a9fccf63750",
   "metadata": {},
   "outputs": [],
   "source": [
    "# Tensor is an array with more than two axes"
   ]
  },
  {
   "cell_type": "code",
   "execution_count": 183,
   "id": "9fedf28e-64b6-42d2-a7bd-86b11ca0f6fb",
   "metadata": {},
   "outputs": [
    {
     "name": "stdout",
     "output_type": "stream",
     "text": [
      "(2, 4, 3)\n",
      "(3, 4, 2)\n",
      "(2, 3, 4)\n",
      "(3,)\n",
      "(4,)\n"
     ]
    }
   ],
   "source": [
    "# Understand transpose of Tensor\n",
    "cropped_img = img[::3, ::1, ::1]\n",
    "print(cropped_img.shape) # channel last\n",
    "cropped_img_T = cropped_img.T\n",
    "print(cropped_img_T.shape) # channel first\n",
    "cropped_img_T = np.transpose(cropped_img, axes = (0, 2, 1))\n",
    "print(cropped_img_T.shape)\n",
    "print(cropped_img[0][0].shape)\n",
    "print(cropped_img_T[0][0].shape)"
   ]
  },
  {
   "cell_type": "code",
   "execution_count": 166,
   "id": "556f15f0-8975-4f71-a99c-635d14e230e2",
   "metadata": {},
   "outputs": [
    {
     "name": "stdout",
     "output_type": "stream",
     "text": [
      "[[1 4]\n",
      " [2 5]\n",
      " [3 6]]\n",
      "6\n",
      "[[1 2 3]\n",
      " [4 5 6]]\n",
      "6\n"
     ]
    },
    {
     "data": {
      "text/plain": [
       "(6, 1)"
      ]
     },
     "execution_count": 166,
     "metadata": {},
     "output_type": "execute_result"
    }
   ],
   "source": [
    "a = np.array([[1, 2, 3],\n",
    "               [4, 5, 6]])\n",
    "print(a.transpose())\n",
    "print(a.transpose()[2][1])\n",
    "print(a.transpose().T)\n",
    "print(a.transpose().T[1][2]) # means - transpose swaps indexing of rows and columns.\n",
    "a.reshape((-1,1)).shape\n"
   ]
  },
  {
   "cell_type": "code",
   "execution_count": 186,
   "id": "7871136d-5c20-4cf8-a55c-a90b44655409",
   "metadata": {},
   "outputs": [
    {
     "name": "stdout",
     "output_type": "stream",
     "text": [
      "[[ 3  5 10]\n",
      " [ 6  8 13]]\n"
     ]
    }
   ],
   "source": [
    "#Broadcasting supported by numpy, not by python lists\n",
    "a = np.array([[1, 2, 3],\n",
    "               [4, 5, 6]])\n",
    "vec = np.array([2, 3, 7]) # apply 2 to col 0 of all rows, apply 3 to col 1 of all rows, apply 7 to col 2 of all rows\n",
    "print(a + vec)"
   ]
  },
  {
   "cell_type": "code",
   "execution_count": 193,
   "id": "03bc6581-6a27-4115-af50-f2daae11e52a",
   "metadata": {},
   "outputs": [
    {
     "name": "stdout",
     "output_type": "stream",
     "text": [
      "[[ 5 14]\n",
      " [27 44]]\n",
      "[[23 29]\n",
      " [51 65]]\n"
     ]
    }
   ],
   "source": [
    "# Element wise matrix multiplication(Hadamard product - matrices must be of same shape) is different from the classic matrix multiplication\n",
    "\n",
    "a = np.array([[1,2],\n",
    "              [3,4]])\n",
    "b = np.array([[5,7],\n",
    "              [9,11]])\n",
    "print(a * b) # Hadamard product\n",
    "print(a.dot(b)) # matrix mul\n"
   ]
  },
  {
   "cell_type": "code",
   "execution_count": 190,
   "id": "a63cf774-8de5-4120-ae02-992452283f8d",
   "metadata": {},
   "outputs": [],
   "source": [
    "# Each value computation in matrix mul takes O(n) time - n2 such computations\n",
    "# where dimensions are as follows - matrix x = m x n and matrix y = n x p"
   ]
  },
  {
   "cell_type": "code",
   "execution_count": 191,
   "id": "0d4c0399-8838-4e96-98a8-b84fd2aa7089",
   "metadata": {},
   "outputs": [],
   "source": [
    "# Matric mul in ML intuition - linear combination of columns of A or x weighted by column entries of B or y"
   ]
  },
  {
   "cell_type": "code",
   "execution_count": null,
   "id": "90e1aa08-0bcb-42db-a41a-c08c4d31f43d",
   "metadata": {},
   "outputs": [],
   "source": []
  }
 ],
 "metadata": {
  "kernelspec": {
   "display_name": "Python 3 (ipykernel)",
   "language": "python",
   "name": "python3"
  },
  "language_info": {
   "codemirror_mode": {
    "name": "ipython",
    "version": 3
   },
   "file_extension": ".py",
   "mimetype": "text/x-python",
   "name": "python",
   "nbconvert_exporter": "python",
   "pygments_lexer": "ipython3",
   "version": "3.11.5"
  }
 },
 "nbformat": 4,
 "nbformat_minor": 5
}
