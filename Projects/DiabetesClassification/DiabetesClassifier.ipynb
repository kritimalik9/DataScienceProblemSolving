{
 "cells": [
  {
   "cell_type": "code",
   "execution_count": 1,
   "id": "96d6bf71-aaad-4232-a4d5-4048aeed5bc2",
   "metadata": {},
   "outputs": [],
   "source": [
    "import numpy as np\n",
    "import pandas as pd\n",
    "import matplotlib.pyplot as plt"
   ]
  },
  {
   "cell_type": "code",
   "execution_count": 12,
   "id": "d53c8964-fd77-4036-b911-aa21af32e4bd",
   "metadata": {},
   "outputs": [
    {
     "name": "stdout",
     "output_type": "stream",
     "text": [
      "[[  7.    168.     88.    ...  38.2     0.787  40.   ]\n",
      " [  8.    110.     76.    ...  27.8     0.237  58.   ]\n",
      " [  7.    147.     76.    ...  39.4     0.257  43.   ]\n",
      " ...\n",
      " [  2.    122.     60.    ...  29.8     0.717  22.   ]\n",
      " [  4.    154.     72.    ...  31.3     0.338  37.   ]\n",
      " [  1.     88.     78.    ...  32.      0.365  29.   ]]\n"
     ]
    },
    {
     "data": {
      "text/plain": [
       "(576, 8)"
      ]
     },
     "execution_count": 12,
     "metadata": {},
     "output_type": "execute_result"
    }
   ],
   "source": [
    "X_train_data = pd.read_csv('./Training Data/Diabetes_XTrain.csv').values\n",
    "print(X_train_data)\n",
    "X_train_data.shape"
   ]
  },
  {
   "cell_type": "code",
   "execution_count": 11,
   "id": "5bc13929-0e84-4c56-99db-cbaf76a577bd",
   "metadata": {},
   "outputs": [
    {
     "data": {
      "text/plain": [
       "(576, 1)"
      ]
     },
     "execution_count": 11,
     "metadata": {},
     "output_type": "execute_result"
    }
   ],
   "source": [
    "Y_train_data = pd.read_csv('./Training Data/Diabetes_YTrain.csv').values\n",
    "print(Y_train_data) # default column vector\n",
    "Y_train_data.shape"
   ]
  },
  {
   "cell_type": "code",
   "execution_count": 32,
   "id": "45e99666-5dfe-426e-8855-83bb148f4227",
   "metadata": {},
   "outputs": [],
   "source": [
    "def nDimensionEuclideanDistance(pnt1, pnt2):\n",
    "    sum = 0\n",
    "    for i in range(len(pnt1)):\n",
    "        sum = sum + (pnt1[i] - pnt2[i])**2\n",
    "    print(sum)\n",
    "    distance = sum**0.5\n",
    "    return distance"
   ]
  },
  {
   "cell_type": "code",
   "execution_count": 36,
   "id": "60259fc2-6005-4a47-bdce-6a6b89688a0b",
   "metadata": {},
   "outputs": [
    {
     "name": "stdout",
     "output_type": "stream",
     "text": [
      "19.52782474489979\n"
     ]
    },
    {
     "data": {
      "text/plain": [
       "4.419029842046757"
      ]
     },
     "execution_count": 36,
     "metadata": {},
     "output_type": "execute_result"
    }
   ],
   "source": [
    "nDimensionEuclideanDistance([1.23209, -370.67322], [1.18702, -375.09202])"
   ]
  },
  {
   "cell_type": "code",
   "execution_count": 38,
   "id": "e3692ce8-a6f0-409c-9ad9-646b6df7f16f",
   "metadata": {},
   "outputs": [
    {
     "data": {
      "text/plain": [
       "576"
      ]
     },
     "execution_count": 38,
     "metadata": {},
     "output_type": "execute_result"
    }
   ],
   "source": [
    "len(X_train_data)"
   ]
  },
  {
   "cell_type": "code",
   "execution_count": 27,
   "id": "aec7d8db-51fd-4249-9691-7ece3f9ba7ae",
   "metadata": {},
   "outputs": [
    {
     "data": {
      "text/plain": [
       "1.4142135623730951"
      ]
     },
     "execution_count": 27,
     "metadata": {},
     "output_type": "execute_result"
    }
   ],
   "source": [
    "2**0.5"
   ]
  },
  {
   "cell_type": "code",
   "execution_count": 112,
   "id": "05668dea-c70e-421d-8483-9b9a7c1f3739",
   "metadata": {},
   "outputs": [],
   "source": [
    "class KnnClassifier:\n",
    "    def __init__(self, k):\n",
    "        self.k = k\n",
    "    def fit(self, X_train_data, Y_train_data):\n",
    "        self.X_train_data = X_train_data\n",
    "        self.Y_train_data = Y_train_data\n",
    "    def nDimensionEuclideanDistance(self, pnt1, pnt2):\n",
    "        sum = 0\n",
    "        for i in range(len(pnt1)):\n",
    "            sum = sum + (pnt1[i] - pnt2[i])**2\n",
    "        # print(sum)\n",
    "        distance = sum**0.5\n",
    "        return distance\n",
    "    def predict(self, P):\n",
    "        # print('####################################################')\n",
    "        distances = []\n",
    "        for i in range(len(X_train_data)):\n",
    "            dist = self.nDimensionEuclideanDistance(self.X_train_data[i], P)\n",
    "            distances.append((dist, i))\n",
    "        # print('----------------------------------------------------')\n",
    "        distances_sorted = sorted(distances, key = lambda x: x[0])\n",
    "        k_closest_points = distances_sorted[:self.k]\n",
    "        # print(k_closest_points)\n",
    "        k_closest_categories = []\n",
    "        for dist, point_idx in k_closest_points:\n",
    "            k_closest_categories.append(self.Y_train_data[point_idx])\n",
    "        category_list, each_category_count_list = np.unique(k_closest_categories, return_counts= True)\n",
    "        # print(category)\n",
    "        # print(count)\n",
    "        max_count_idx = np.argmax(each_category_count_list)\n",
    "        pred = {\"best_category\": category_list[max_count_idx], \"prob\": each_category_count_list[max_count_idx]/sum(each_category_count_list)} \n",
    "        print(pred)\n",
    "        # print('****************************************************')\n",
    "        return pred[\"best_category\"]\n",
    "        "
   ]
  },
  {
   "cell_type": "code",
   "execution_count": 118,
   "id": "25ca9175-7562-46af-adac-01479217c889",
   "metadata": {},
   "outputs": [
    {
     "name": "stdout",
     "output_type": "stream",
     "text": [
      "<class 'pandas.core.series.Series'>\n",
      "{'best_category': 0, 'prob': 0.6666666666666666}\n",
      "{'best_category': 0, 'prob': 0.6666666666666666}\n",
      "{'best_category': 0, 'prob': 0.6916666666666667}\n",
      "{'best_category': 0, 'prob': 0.825}\n",
      "{'best_category': 0, 'prob': 0.9}\n",
      "{'best_category': 0, 'prob': 0.5166666666666667}\n",
      "{'best_category': 1, 'prob': 0.5333333333333333}\n",
      "{'best_category': 0, 'prob': 0.6}\n",
      "{'best_category': 0, 'prob': 0.7833333333333333}\n",
      "{'best_category': 0, 'prob': 0.725}\n",
      "{'best_category': 1, 'prob': 0.55}\n",
      "{'best_category': 0, 'prob': 0.9}\n",
      "{'best_category': 1, 'prob': 0.5333333333333333}\n",
      "{'best_category': 0, 'prob': 0.9333333333333333}\n",
      "{'best_category': 0, 'prob': 0.6083333333333333}\n",
      "{'best_category': 0, 'prob': 0.85}\n",
      "{'best_category': 0, 'prob': 0.6416666666666667}\n",
      "{'best_category': 1, 'prob': 0.55}\n",
      "{'best_category': 0, 'prob': 0.55}\n",
      "{'best_category': 1, 'prob': 0.525}\n",
      "{'best_category': 0, 'prob': 0.6}\n",
      "{'best_category': 0, 'prob': 0.5166666666666667}\n",
      "{'best_category': 0, 'prob': 0.6916666666666667}\n",
      "{'best_category': 0, 'prob': 0.7333333333333333}\n",
      "{'best_category': 0, 'prob': 0.5666666666666667}\n",
      "{'best_category': 0, 'prob': 0.6666666666666666}\n",
      "{'best_category': 0, 'prob': 0.5666666666666667}\n",
      "{'best_category': 0, 'prob': 0.75}\n",
      "{'best_category': 0, 'prob': 0.775}\n",
      "{'best_category': 0, 'prob': 0.725}\n",
      "{'best_category': 0, 'prob': 0.8}\n",
      "{'best_category': 0, 'prob': 0.725}\n",
      "{'best_category': 0, 'prob': 0.5833333333333334}\n",
      "{'best_category': 0, 'prob': 0.875}\n",
      "{'best_category': 0, 'prob': 0.55}\n",
      "{'best_category': 0, 'prob': 0.5916666666666667}\n",
      "{'best_category': 1, 'prob': 0.5083333333333333}\n",
      "{'best_category': 0, 'prob': 0.6916666666666667}\n",
      "{'best_category': 1, 'prob': 0.5416666666666666}\n",
      "{'best_category': 0, 'prob': 0.7166666666666667}\n",
      "{'best_category': 1, 'prob': 0.5083333333333333}\n",
      "{'best_category': 0, 'prob': 0.7916666666666666}\n",
      "{'best_category': 0, 'prob': 0.7166666666666667}\n",
      "{'best_category': 0, 'prob': 0.8833333333333333}\n",
      "{'best_category': 1, 'prob': 0.5166666666666667}\n",
      "{'best_category': 0, 'prob': 0.825}\n",
      "{'best_category': 0, 'prob': 0.7916666666666666}\n",
      "{'best_category': 0, 'prob': 0.5583333333333333}\n",
      "{'best_category': 0, 'prob': 0.825}\n",
      "{'best_category': 1, 'prob': 0.525}\n",
      "{'best_category': 0, 'prob': 0.6}\n",
      "{'best_category': 1, 'prob': 0.5083333333333333}\n",
      "{'best_category': 0, 'prob': 0.5083333333333333}\n",
      "{'best_category': 0, 'prob': 0.6416666666666667}\n",
      "{'best_category': 1, 'prob': 0.5666666666666667}\n",
      "{'best_category': 0, 'prob': 0.7}\n",
      "{'best_category': 0, 'prob': 0.5166666666666667}\n",
      "{'best_category': 0, 'prob': 0.7083333333333334}\n",
      "{'best_category': 0, 'prob': 0.7666666666666667}\n",
      "{'best_category': 0, 'prob': 0.625}\n",
      "{'best_category': 0, 'prob': 0.5333333333333333}\n",
      "{'best_category': 0, 'prob': 0.7166666666666667}\n",
      "{'best_category': 0, 'prob': 0.75}\n",
      "{'best_category': 0, 'prob': 0.7333333333333333}\n",
      "{'best_category': 1, 'prob': 0.525}\n",
      "{'best_category': 0, 'prob': 0.9083333333333333}\n",
      "{'best_category': 0, 'prob': 0.8083333333333333}\n",
      "{'best_category': 0, 'prob': 0.825}\n",
      "{'best_category': 0, 'prob': 0.7166666666666667}\n",
      "{'best_category': 0, 'prob': 0.725}\n",
      "{'best_category': 0, 'prob': 0.8666666666666667}\n",
      "{'best_category': 0, 'prob': 0.5}\n",
      "{'best_category': 0, 'prob': 0.5083333333333333}\n",
      "{'best_category': 0, 'prob': 0.8666666666666667}\n",
      "{'best_category': 0, 'prob': 0.5833333333333334}\n",
      "{'best_category': 0, 'prob': 0.8083333333333333}\n",
      "{'best_category': 0, 'prob': 0.7583333333333333}\n",
      "{'best_category': 0, 'prob': 0.825}\n",
      "{'best_category': 0, 'prob': 0.8083333333333333}\n",
      "{'best_category': 0, 'prob': 0.875}\n",
      "{'best_category': 0, 'prob': 0.6416666666666667}\n",
      "{'best_category': 0, 'prob': 0.7416666666666667}\n",
      "{'best_category': 0, 'prob': 0.6583333333333333}\n",
      "{'best_category': 0, 'prob': 0.8083333333333333}\n",
      "{'best_category': 0, 'prob': 0.725}\n",
      "{'best_category': 0, 'prob': 0.775}\n",
      "{'best_category': 1, 'prob': 0.5166666666666667}\n",
      "{'best_category': 1, 'prob': 0.5083333333333333}\n",
      "{'best_category': 0, 'prob': 0.925}\n",
      "{'best_category': 0, 'prob': 0.85}\n",
      "{'best_category': 0, 'prob': 0.5166666666666667}\n",
      "{'best_category': 0, 'prob': 0.5}\n",
      "{'best_category': 1, 'prob': 0.525}\n",
      "{'best_category': 0, 'prob': 0.5333333333333333}\n",
      "{'best_category': 1, 'prob': 0.5416666666666666}\n",
      "{'best_category': 0, 'prob': 0.6083333333333333}\n",
      "{'best_category': 0, 'prob': 0.8}\n",
      "{'best_category': 0, 'prob': 0.7}\n",
      "{'best_category': 0, 'prob': 0.7583333333333333}\n",
      "{'best_category': 0, 'prob': 0.75}\n",
      "{'best_category': 1, 'prob': 0.5666666666666667}\n",
      "{'best_category': 0, 'prob': 0.6833333333333333}\n",
      "{'best_category': 0, 'prob': 0.5}\n",
      "{'best_category': 0, 'prob': 0.7333333333333333}\n",
      "{'best_category': 0, 'prob': 0.6166666666666667}\n",
      "{'best_category': 0, 'prob': 0.525}\n",
      "{'best_category': 0, 'prob': 0.65}\n",
      "{'best_category': 0, 'prob': 0.55}\n",
      "{'best_category': 0, 'prob': 0.8583333333333333}\n",
      "{'best_category': 0, 'prob': 0.6916666666666667}\n",
      "{'best_category': 1, 'prob': 0.5166666666666667}\n",
      "{'best_category': 0, 'prob': 0.6166666666666667}\n",
      "{'best_category': 0, 'prob': 0.6}\n",
      "{'best_category': 0, 'prob': 0.7083333333333334}\n",
      "{'best_category': 0, 'prob': 0.85}\n",
      "{'best_category': 0, 'prob': 0.6583333333333333}\n",
      "{'best_category': 0, 'prob': 0.7416666666666667}\n",
      "{'best_category': 1, 'prob': 0.5583333333333333}\n",
      "{'best_category': 0, 'prob': 0.7833333333333333}\n",
      "{'best_category': 1, 'prob': 0.5083333333333333}\n",
      "{'best_category': 0, 'prob': 0.8666666666666667}\n",
      "{'best_category': 0, 'prob': 0.7666666666666667}\n",
      "{'best_category': 0, 'prob': 0.8416666666666667}\n",
      "{'best_category': 1, 'prob': 0.5083333333333333}\n",
      "{'best_category': 1, 'prob': 0.5416666666666666}\n",
      "{'best_category': 0, 'prob': 0.5166666666666667}\n",
      "{'best_category': 1, 'prob': 0.5166666666666667}\n",
      "{'best_category': 0, 'prob': 0.675}\n",
      "{'best_category': 1, 'prob': 0.5333333333333333}\n",
      "{'best_category': 0, 'prob': 0.825}\n",
      "{'best_category': 0, 'prob': 0.6083333333333333}\n",
      "{'best_category': 0, 'prob': 0.6416666666666667}\n",
      "{'best_category': 0, 'prob': 0.6583333333333333}\n",
      "{'best_category': 0, 'prob': 0.7583333333333333}\n",
      "{'best_category': 0, 'prob': 0.6666666666666666}\n",
      "{'best_category': 0, 'prob': 0.9}\n",
      "{'best_category': 0, 'prob': 0.5}\n",
      "{'best_category': 1, 'prob': 0.5333333333333333}\n",
      "{'best_category': 1, 'prob': 0.5333333333333333}\n",
      "{'best_category': 0, 'prob': 0.5583333333333333}\n",
      "{'best_category': 0, 'prob': 0.5083333333333333}\n",
      "{'best_category': 1, 'prob': 0.5083333333333333}\n",
      "{'best_category': 0, 'prob': 0.7}\n",
      "{'best_category': 1, 'prob': 0.5166666666666667}\n",
      "{'best_category': 1, 'prob': 0.5083333333333333}\n",
      "{'best_category': 0, 'prob': 0.8}\n",
      "{'best_category': 0, 'prob': 0.7833333333333333}\n",
      "{'best_category': 0, 'prob': 0.6083333333333333}\n",
      "{'best_category': 0, 'prob': 0.6833333333333333}\n",
      "{'best_category': 0, 'prob': 0.6833333333333333}\n",
      "{'best_category': 0, 'prob': 0.5333333333333333}\n",
      "{'best_category': 0, 'prob': 0.8}\n",
      "{'best_category': 1, 'prob': 0.525}\n",
      "{'best_category': 0, 'prob': 0.6333333333333333}\n",
      "{'best_category': 0, 'prob': 0.7416666666666667}\n",
      "{'best_category': 1, 'prob': 0.55}\n",
      "{'best_category': 0, 'prob': 0.6}\n",
      "{'best_category': 0, 'prob': 0.575}\n",
      "{'best_category': 0, 'prob': 0.8916666666666667}\n",
      "{'best_category': 1, 'prob': 0.55}\n",
      "{'best_category': 0, 'prob': 0.5416666666666666}\n",
      "{'best_category': 0, 'prob': 0.6083333333333333}\n",
      "{'best_category': 0, 'prob': 0.675}\n",
      "{'best_category': 0, 'prob': 0.6583333333333333}\n",
      "{'best_category': 0, 'prob': 0.8333333333333334}\n",
      "{'best_category': 0, 'prob': 0.8166666666666667}\n",
      "{'best_category': 0, 'prob': 0.9166666666666666}\n",
      "{'best_category': 0, 'prob': 0.5083333333333333}\n",
      "{'best_category': 0, 'prob': 0.5666666666666667}\n",
      "{'best_category': 0, 'prob': 0.75}\n",
      "{'best_category': 0, 'prob': 0.8833333333333333}\n",
      "{'best_category': 0, 'prob': 0.6}\n",
      "{'best_category': 0, 'prob': 0.575}\n",
      "{'best_category': 0, 'prob': 0.7083333333333334}\n",
      "{'best_category': 0, 'prob': 0.525}\n",
      "{'best_category': 0, 'prob': 0.7583333333333333}\n",
      "{'best_category': 0, 'prob': 0.9}\n",
      "{'best_category': 0, 'prob': 0.85}\n",
      "{'best_category': 0, 'prob': 0.55}\n",
      "{'best_category': 1, 'prob': 0.5166666666666667}\n",
      "{'best_category': 0, 'prob': 0.5166666666666667}\n",
      "{'best_category': 0, 'prob': 0.7666666666666667}\n",
      "{'best_category': 1, 'prob': 0.5083333333333333}\n",
      "{'best_category': 0, 'prob': 0.6916666666666667}\n",
      "{'best_category': 1, 'prob': 0.5166666666666667}\n",
      "{'best_category': 0, 'prob': 0.575}\n",
      "{'best_category': 0, 'prob': 0.525}\n",
      "{'best_category': 0, 'prob': 0.725}\n",
      "{'best_category': 0, 'prob': 0.6666666666666666}\n",
      "{'best_category': 1, 'prob': 0.575}\n",
      "{'best_category': 0, 'prob': 0.775}\n",
      "{'best_category': 0, 'prob': 0.75}\n",
      "     Outcome\n",
      "0          0\n",
      "1          0\n",
      "2          0\n",
      "3          0\n",
      "4          0\n",
      "..       ...\n",
      "187        0\n",
      "188        0\n",
      "189        1\n",
      "190        0\n",
      "191        0\n",
      "\n",
      "[192 rows x 1 columns]\n",
      "<class 'pandas.core.series.Series'>\n",
      "****************************************************\n",
      "(192,)\n",
      "     Outcome\n",
      "0          0\n",
      "1          0\n",
      "2          0\n",
      "3          0\n",
      "4          0\n",
      "..       ...\n",
      "187        0\n",
      "188        0\n",
      "189        1\n",
      "190        0\n",
      "191        0\n",
      "\n",
      "[192 rows x 1 columns]\n",
      "<class 'pandas.core.series.Series'>\n",
      "****************************************************\n",
      "[ True  True  True  True  True  True  True  True  True  True  True  True\n",
      "  True  True  True  True  True  True  True  True  True  True  True  True\n",
      "  True  True  True  True  True  True  True  True  True  True  True  True\n",
      "  True  True  True  True  True  True  True  True  True  True  True  True\n",
      "  True  True  True  True  True  True  True  True  True  True  True  True\n",
      "  True  True  True  True  True  True  True  True  True  True  True  True\n",
      "  True  True  True  True  True  True  True  True  True  True  True  True\n",
      "  True  True  True  True  True  True  True  True  True  True  True  True\n",
      "  True  True  True  True  True  True  True  True  True  True  True  True\n",
      "  True  True  True  True  True  True  True  True  True  True  True  True\n",
      "  True  True  True  True  True  True  True  True  True  True  True  True\n",
      "  True  True  True  True  True  True  True  True  True  True  True  True\n",
      "  True  True  True  True  True  True  True  True  True  True  True  True\n",
      "  True  True  True  True  True  True  True  True  True  True  True  True\n",
      "  True  True  True  True  True  True  True  True  True  True  True  True\n",
      "  True  True  True  True  True  True  True  True  True  True  True  True]\n",
      "****************************************************\n"
     ]
    }
   ],
   "source": [
    "model = KnnClassifier(120)\n",
    "model.fit(X_train_data, Y_train_data)\n",
    "\n",
    "X_test_data = pd.read_csv('./Test Cases/Diabetes_Xtest.csv').values\n",
    "\n",
    "sample_out_df = pd.read_csv('./Test Cases/sample_submission.csv')\n",
    "print(type(sample_out_df['Outcome']))\n",
    "\n",
    "# for tc in range(len(X_train_data)):\n",
    "#     model.predict(X_train_data[tc])\n",
    "\n",
    "# model.predict(X_train_data[0)\n",
    "\n",
    "predictions_me = []\n",
    "for tc in range(len(X_test_data)):\n",
    "    predictions_me.append(model.predict(X_test_data[tc]))\n",
    "\n",
    "predictions_df_mine = pd.DataFrame(predictions_me, columns = ['Outcome'])\n",
    "print(predictions_df_mine)\n",
    "predictions_df_mine.to_csv('./Test Cases/Diabetes_Ytest_mine.csv', index= False)\n",
    "print(type(predictions_df_mine['Outcome']))\n",
    "print('****************************************************')\n",
    "\n",
    "from sklearn.neighbors import KNeighborsClassifier\n",
    "knn = KNeighborsClassifier(n_neighbors=120)\n",
    "knn.fit(X_train_data, Y_train_data.reshape(-1))\n",
    "predictions = knn.predict(X_test_data)\n",
    "print((predictions_me == predictions).shape)\n",
    "predictions_df = pd.DataFrame(predictions, columns = ['Outcome'])\n",
    "print(predictions_df)\n",
    "print(type(predictions_df['Outcome']))\n",
    "predictions_df.to_csv('./Test Cases/Diabetes_Ytest_expected.csv', index= False)\n",
    "print('****************************************************')\n",
    "print((predictions_me == predictions))\n",
    "print('****************************************************')\n"
   ]
  },
  {
   "cell_type": "code",
   "execution_count": null,
   "id": "518f180c-87fe-4e89-b8bb-f00257f9d2dc",
   "metadata": {},
   "outputs": [],
   "source": []
  },
  {
   "cell_type": "code",
   "execution_count": null,
   "id": "a6b3f30d-274c-4e1d-bbd6-fd73a5d926ba",
   "metadata": {},
   "outputs": [],
   "source": []
  },
  {
   "cell_type": "code",
   "execution_count": null,
   "id": "9c62d16d-59d3-4fbe-b70d-088d4c628e18",
   "metadata": {},
   "outputs": [],
   "source": []
  },
  {
   "cell_type": "code",
   "execution_count": null,
   "id": "b06247cd-57ff-4acb-8f30-277f8470b964",
   "metadata": {},
   "outputs": [],
   "source": []
  }
 ],
 "metadata": {
  "kernelspec": {
   "display_name": "Python 3 (ipykernel)",
   "language": "python",
   "name": "python3"
  },
  "language_info": {
   "codemirror_mode": {
    "name": "ipython",
    "version": 3
   },
   "file_extension": ".py",
   "mimetype": "text/x-python",
   "name": "python",
   "nbconvert_exporter": "python",
   "pygments_lexer": "ipython3",
   "version": "3.11.5"
  }
 },
 "nbformat": 4,
 "nbformat_minor": 5
}
