{
 "cells": [
  {
   "cell_type": "code",
   "execution_count": 2,
   "metadata": {},
   "outputs": [],
   "source": [
    "import numpy"
   ]
  },
  {
   "cell_type": "code",
   "execution_count": 1,
   "metadata": {},
   "outputs": [],
   "source": [
    "a = 2"
   ]
  },
  {
   "cell_type": "code",
   "execution_count": 2,
   "metadata": {},
   "outputs": [],
   "source": [
    "b = 3"
   ]
  },
  {
   "cell_type": "code",
   "execution_count": 3,
   "metadata": {},
   "outputs": [
    {
     "data": {
      "text/plain": [
       "0.6666666666666666"
      ]
     },
     "execution_count": 3,
     "metadata": {},
     "output_type": "execute_result"
    }
   ],
   "source": [
    "a/b"
   ]
  },
  {
   "cell_type": "code",
   "execution_count": 4,
   "metadata": {},
   "outputs": [
    {
     "data": {
      "text/plain": [
       "0"
      ]
     },
     "execution_count": 4,
     "metadata": {},
     "output_type": "execute_result"
    }
   ],
   "source": [
    "a//b"
   ]
  },
  {
   "cell_type": "code",
   "execution_count": 7,
   "metadata": {},
   "outputs": [
    {
     "name": "stdout",
     "output_type": "stream",
     "text": [
      "0.67\n"
     ]
    }
   ],
   "source": [
    "print('%.2f'%(a/b))"
   ]
  },
  {
   "cell_type": "code",
   "execution_count": 8,
   "metadata": {},
   "outputs": [
    {
     "data": {
      "text/plain": [
       "8"
      ]
     },
     "execution_count": 8,
     "metadata": {},
     "output_type": "execute_result"
    }
   ],
   "source": [
    "a**b"
   ]
  },
  {
   "cell_type": "code",
   "execution_count": 9,
   "metadata": {},
   "outputs": [
    {
     "data": {
      "text/plain": [
       "2"
      ]
     },
     "execution_count": 9,
     "metadata": {},
     "output_type": "execute_result"
    }
   ],
   "source": [
    "a%b"
   ]
  },
  {
   "cell_type": "code",
   "execution_count": 10,
   "metadata": {},
   "outputs": [
    {
     "name": "stdout",
     "output_type": "stream",
     "text": [
      "9 8\n"
     ]
    }
   ],
   "source": [
    "a,b = 9, 8\n",
    "print(a,b)\n"
   ]
  },
  {
   "cell_type": "code",
   "execution_count": 13,
   "metadata": {},
   "outputs": [],
   "source": [
    "a = {88,89, 1000}"
   ]
  },
  {
   "cell_type": "code",
   "execution_count": 14,
   "metadata": {},
   "outputs": [
    {
     "data": {
      "text/plain": [
       "set"
      ]
     },
     "execution_count": 14,
     "metadata": {},
     "output_type": "execute_result"
    }
   ],
   "source": [
    "type(a)"
   ]
  },
  {
   "cell_type": "code",
   "execution_count": 15,
   "metadata": {},
   "outputs": [],
   "source": [
    "a = (10, 40)\n"
   ]
  },
  {
   "cell_type": "code",
   "execution_count": 16,
   "metadata": {},
   "outputs": [
    {
     "data": {
      "text/plain": [
       "tuple"
      ]
     },
     "execution_count": 16,
     "metadata": {},
     "output_type": "execute_result"
    }
   ],
   "source": [
    "type(a)"
   ]
  },
  {
   "cell_type": "code",
   "execution_count": 17,
   "metadata": {},
   "outputs": [
    {
     "data": {
      "text/plain": [
       "list"
      ]
     },
     "execution_count": 17,
     "metadata": {},
     "output_type": "execute_result"
    }
   ],
   "source": [
    "a = [1, 3,5]\n",
    "type(a)"
   ]
  },
  {
   "cell_type": "code",
   "execution_count": 32,
   "metadata": {},
   "outputs": [],
   "source": [
    "apple = 'app'"
   ]
  },
  {
   "cell_type": "code",
   "execution_count": 33,
   "metadata": {},
   "outputs": [],
   "source": [
    "a = {b:6, apple:90}"
   ]
  },
  {
   "cell_type": "code",
   "execution_count": 36,
   "metadata": {},
   "outputs": [
    {
     "data": {
      "text/plain": [
       "int"
      ]
     },
     "execution_count": 36,
     "metadata": {},
     "output_type": "execute_result"
    }
   ],
   "source": [
    "type(a[apple])\n"
   ]
  },
  {
   "cell_type": "code",
   "execution_count": 38,
   "metadata": {
    "scrolled": true
   },
   "outputs": [
    {
     "name": "stdout",
     "output_type": "stream",
     "text": [
      "a\n",
      "p\n",
      "p\n",
      "l\n",
      "e\n"
     ]
    }
   ],
   "source": [
    "for i in \"apple\":\n",
    "    print(i)"
   ]
  },
  {
   "cell_type": "code",
   "execution_count": 39,
   "metadata": {},
   "outputs": [
    {
     "name": "stdout",
     "output_type": "stream",
     "text": [
      "0\n",
      "1\n",
      "2\n",
      "3\n",
      "4\n",
      "5\n"
     ]
    }
   ],
   "source": [
    "# range returns iterable\n",
    "for i in range(6):\n",
    "    print(i)"
   ]
  },
  {
   "cell_type": "code",
   "execution_count": 42,
   "metadata": {},
   "outputs": [
    {
     "name": "stdout",
     "output_type": "stream",
     "text": [
      "3\n",
      "4\n",
      "5\n",
      "6\n"
     ]
    }
   ],
   "source": [
    "for i in range(3,7,1):\n",
    "    print(i)"
   ]
  },
  {
   "cell_type": "code",
   "execution_count": 43,
   "metadata": {},
   "outputs": [
    {
     "name": "stdout",
     "output_type": "stream",
     "text": [
      "3\n",
      "4\n",
      "5\n",
      "6\n",
      "7\n",
      "8\n",
      "9\n"
     ]
    }
   ],
   "source": [
    "for i in range(3,10):\n",
    "    print(i)"
   ]
  },
  {
   "cell_type": "code",
   "execution_count": 47,
   "metadata": {},
   "outputs": [
    {
     "data": {
      "text/plain": [
       "110"
      ]
     },
     "execution_count": 47,
     "metadata": {},
     "output_type": "execute_result"
    }
   ],
   "source": [
    "#ascii\n",
    "ord('n')"
   ]
  },
  {
   "cell_type": "code",
   "execution_count": 48,
   "metadata": {},
   "outputs": [
    {
     "data": {
      "text/plain": [
       "6"
      ]
     },
     "execution_count": 48,
     "metadata": {},
     "output_type": "execute_result"
    }
   ],
   "source": [
    "5 + True"
   ]
  },
  {
   "cell_type": "code",
   "execution_count": 49,
   "metadata": {},
   "outputs": [
    {
     "data": {
      "text/plain": [
       "bool"
      ]
     },
     "execution_count": 49,
     "metadata": {},
     "output_type": "execute_result"
    }
   ],
   "source": [
    "type(True)\n"
   ]
  },
  {
   "cell_type": "code",
   "execution_count": 51,
   "metadata": {},
   "outputs": [
    {
     "name": "stdout",
     "output_type": "stream",
     "text": [
      "my name is kriti, age = 34\n"
     ]
    }
   ],
   "source": [
    "print(\"my name is {}, age = {}\".format(\"kriti\", 34))"
   ]
  },
  {
   "cell_type": "code",
   "execution_count": 61,
   "metadata": {},
   "outputs": [],
   "source": [
    "def div(a, b):\n",
    "    try:\n",
    "        print(\"entered div\")\n",
    "        return a/b\n",
    "    except:\n",
    "        print(\"Error\")\n",
    "    finally:\n",
    "        print(\"called always\") # not put any return statement here, it works though\n",
    "    print(\"called not always\")"
   ]
  },
  {
   "cell_type": "code",
   "execution_count": 64,
   "metadata": {},
   "outputs": [
    {
     "name": "stdout",
     "output_type": "stream",
     "text": [
      "entered div\n",
      "called always\n"
     ]
    },
    {
     "data": {
      "text/plain": [
       "2.5"
      ]
     },
     "execution_count": 64,
     "metadata": {},
     "output_type": "execute_result"
    }
   ],
   "source": [
    "div(5,2) # finally is called whether an error happens or not or even return statement called before"
   ]
  },
  {
   "cell_type": "code",
   "execution_count": 65,
   "metadata": {},
   "outputs": [
    {
     "name": "stdout",
     "output_type": "stream",
     "text": [
      "entered div\n",
      "Error\n",
      "called always\n",
      "called not always\n"
     ]
    }
   ],
   "source": [
    "div(5,0)"
   ]
  },
  {
   "cell_type": "code",
   "execution_count": 67,
   "metadata": {},
   "outputs": [
    {
     "name": "stdout",
     "output_type": "stream",
     "text": [
      "10\n"
     ]
    }
   ],
   "source": [
    "x = 10\n",
    "def modify():\n",
    "    x += 31\n",
    "    print(x)\n",
    "print(x) # modify block not read, thus NOT even interpreted either to show the error."
   ]
  },
  {
   "cell_type": "code",
   "execution_count": 72,
   "metadata": {},
   "outputs": [
    {
     "ename": "UnboundLocalError",
     "evalue": "cannot access local variable 'x' where it is not associated with a value",
     "output_type": "error",
     "traceback": [
      "\u001b[0;31m---------------------------------------------------------------------------\u001b[0m",
      "\u001b[0;31mUnboundLocalError\u001b[0m                         Traceback (most recent call last)",
      "Cell \u001b[0;32mIn[72], line 1\u001b[0m\n\u001b[0;32m----> 1\u001b[0m \u001b[43mmodify\u001b[49m\u001b[43m(\u001b[49m\u001b[43m)\u001b[49m \u001b[38;5;66;03m# now modify gets accessed\u001b[39;00m\n",
      "Cell \u001b[0;32mIn[67], line 3\u001b[0m, in \u001b[0;36mmodify\u001b[0;34m()\u001b[0m\n\u001b[1;32m      2\u001b[0m \u001b[38;5;28;01mdef\u001b[39;00m \u001b[38;5;21mmodify\u001b[39m():\n\u001b[0;32m----> 3\u001b[0m     \u001b[43mx\u001b[49m \u001b[38;5;241m+\u001b[39m\u001b[38;5;241m=\u001b[39m \u001b[38;5;241m31\u001b[39m\n\u001b[1;32m      4\u001b[0m     \u001b[38;5;28mprint\u001b[39m(x)\n",
      "\u001b[0;31mUnboundLocalError\u001b[0m: cannot access local variable 'x' where it is not associated with a value"
     ]
    }
   ],
   "source": [
    "modify() # now modify gets accessed"
   ]
  },
  {
   "cell_type": "code",
   "execution_count": 76,
   "metadata": {},
   "outputs": [
    {
     "name": "stdout",
     "output_type": "stream",
     "text": [
      "10\n",
      "32\n"
     ]
    }
   ],
   "source": [
    "x = 10\n",
    "def modify():\n",
    "    x = 1\n",
    "    x += 31\n",
    "    print(x)\n",
    "print(x) # --> python interpreter executes line by line\n",
    "modify() "
   ]
  },
  {
   "cell_type": "code",
   "execution_count": null,
   "metadata": {},
   "outputs": [],
   "source": [
    "x = 10"
   ]
  },
  {
   "cell_type": "code",
   "execution_count": 80,
   "metadata": {},
   "outputs": [
    {
     "name": "stdout",
     "output_type": "stream",
     "text": [
      "10\n",
      "41\n",
      "41\n"
     ]
    }
   ],
   "source": [
    "x = 10\n",
    "def modify():\n",
    "    global x\n",
    "    x += 31\n",
    "    print(x)\n",
    "print(x) # # --> python interpreter executes line by line\n",
    "modify()\n",
    "print(x)"
   ]
  },
  {
   "cell_type": "code",
   "execution_count": 81,
   "metadata": {},
   "outputs": [],
   "source": [
    "# In python, we can define a fn inside a fn - coz everything in python is object(no primitives) - correct to say?"
   ]
  },
  {
   "cell_type": "code",
   "execution_count": 85,
   "metadata": {},
   "outputs": [
    {
     "ename": "NameError",
     "evalue": "name 'x' is not defined",
     "output_type": "error",
     "traceback": [
      "\u001b[0;31m---------------------------------------------------------------------------\u001b[0m",
      "\u001b[0;31mNameError\u001b[0m                                 Traceback (most recent call last)",
      "Cell \u001b[0;32mIn[85], line 1\u001b[0m\n\u001b[0;32m----> 1\u001b[0m \u001b[38;5;28;01mdel\u001b[39;00m \u001b[43mx\u001b[49m  \u001b[38;5;66;03m# deletes x from global space\u001b[39;00m\n",
      "\u001b[0;31mNameError\u001b[0m: name 'x' is not defined"
     ]
    }
   ],
   "source": [
    "del x  # deletes x from global space"
   ]
  },
  {
   "cell_type": "code",
   "execution_count": 88,
   "metadata": {},
   "outputs": [
    {
     "ename": "NameError",
     "evalue": "name 'x' is not defined",
     "output_type": "error",
     "traceback": [
      "\u001b[0;31m---------------------------------------------------------------------------\u001b[0m",
      "\u001b[0;31mNameError\u001b[0m                                 Traceback (most recent call last)",
      "Cell \u001b[0;32mIn[88], line 8\u001b[0m\n\u001b[1;32m      6\u001b[0m         \u001b[38;5;28mprint\u001b[39m(x)\n\u001b[1;32m      7\u001b[0m     inner() \u001b[38;5;66;03m# --> if wont be calling it, no error for issues in inner() get generated\u001b[39;00m\n\u001b[0;32m----> 8\u001b[0m \u001b[43mouter\u001b[49m\u001b[43m(\u001b[49m\u001b[43m)\u001b[49m\n",
      "Cell \u001b[0;32mIn[88], line 7\u001b[0m, in \u001b[0;36mouter\u001b[0;34m()\u001b[0m\n\u001b[1;32m      5\u001b[0m     x \u001b[38;5;241m+\u001b[39m\u001b[38;5;241m=\u001b[39m \u001b[38;5;241m2\u001b[39m\n\u001b[1;32m      6\u001b[0m     \u001b[38;5;28mprint\u001b[39m(x)\n\u001b[0;32m----> 7\u001b[0m \u001b[43minner\u001b[49m\u001b[43m(\u001b[49m\u001b[43m)\u001b[49m\n",
      "Cell \u001b[0;32mIn[88], line 5\u001b[0m, in \u001b[0;36mouter.<locals>.inner\u001b[0;34m()\u001b[0m\n\u001b[1;32m      3\u001b[0m \u001b[38;5;28;01mdef\u001b[39;00m \u001b[38;5;21minner\u001b[39m():\n\u001b[1;32m      4\u001b[0m     \u001b[38;5;28;01mglobal\u001b[39;00m x\n\u001b[0;32m----> 5\u001b[0m     \u001b[43mx\u001b[49m \u001b[38;5;241m+\u001b[39m\u001b[38;5;241m=\u001b[39m \u001b[38;5;241m2\u001b[39m\n\u001b[1;32m      6\u001b[0m     \u001b[38;5;28mprint\u001b[39m(x)\n",
      "\u001b[0;31mNameError\u001b[0m: name 'x' is not defined"
     ]
    }
   ],
   "source": [
    "def outer():\n",
    "    x = 10\n",
    "    def inner():\n",
    "        global x\n",
    "        x += 2\n",
    "        print(x)\n",
    "    inner() # --> if wont be calling it, no error for issues in inner() get generated\n",
    "outer()\n",
    "    "
   ]
  },
  {
   "cell_type": "code",
   "execution_count": 89,
   "metadata": {},
   "outputs": [
    {
     "name": "stdout",
     "output_type": "stream",
     "text": [
      "12\n"
     ]
    }
   ],
   "source": [
    "def outer():\n",
    "    x = 10\n",
    "    def inner():\n",
    "        nonlocal x\n",
    "        x += 2\n",
    "        print(x)\n",
    "    inner() # --> if wont be calling it, no error for issues in inner() get generated\n",
    "outer()"
   ]
  },
  {
   "cell_type": "code",
   "execution_count": 95,
   "metadata": {},
   "outputs": [],
   "source": [
    "def show(a, b, c, *args, d = 5, e = 6, **kwargs): # Positional args, packed args, and then - default args(needs this var name too while calling fn), packed default kargs?\n",
    "    return"
   ]
  },
  {
   "cell_type": "code",
   "execution_count": 96,
   "metadata": {},
   "outputs": [
    {
     "data": {
      "text/plain": [
       "[1, 2, 5, 5]"
      ]
     },
     "execution_count": 96,
     "metadata": {},
     "output_type": "execute_result"
    }
   ],
   "source": [
    "sorted([5,5,2,1])"
   ]
  },
  {
   "cell_type": "code",
   "execution_count": 148,
   "metadata": {},
   "outputs": [],
   "source": [
    "# concat = lambda x,y: print(x+y)\n",
    "def concat(x, y):\n",
    "    return x+y"
   ]
  },
  {
   "cell_type": "code",
   "execution_count": 149,
   "metadata": {},
   "outputs": [
    {
     "data": {
      "text/plain": [
       "'apples'"
      ]
     },
     "execution_count": 149,
     "metadata": {},
     "output_type": "execute_result"
    }
   ],
   "source": [
    "concat('appl','es')"
   ]
  },
  {
   "cell_type": "code",
   "execution_count": 150,
   "metadata": {},
   "outputs": [],
   "source": [
    "def append(fn):\n",
    "    def wrapper(*args, **kwargs): # args is a tuple, kwargs is a dict\n",
    "        print(\"Inside decorator\")\n",
    "        return fn(*args, **kwargs) # to pass it in a deflated way\n",
    "    return wrapper "
   ]
  },
  {
   "cell_type": "code",
   "execution_count": 151,
   "metadata": {},
   "outputs": [],
   "source": [
    "new_concat = append(concat)"
   ]
  },
  {
   "cell_type": "code",
   "execution_count": 152,
   "metadata": {},
   "outputs": [
    {
     "name": "stdout",
     "output_type": "stream",
     "text": [
      "Inside decorator\n"
     ]
    },
    {
     "data": {
      "text/plain": [
       "'mymumma'"
      ]
     },
     "execution_count": 152,
     "metadata": {},
     "output_type": "execute_result"
    }
   ],
   "source": [
    "new_concat('my', 'mumma')"
   ]
  },
  {
   "cell_type": "code",
   "execution_count": 153,
   "metadata": {},
   "outputs": [
    {
     "data": {
      "text/plain": [
       "'\\nkkk\\n'"
      ]
     },
     "execution_count": 153,
     "metadata": {},
     "output_type": "execute_result"
    }
   ],
   "source": [
    "\"\"\"\n",
    "kkk\n",
    "\"\"\""
   ]
  },
  {
   "cell_type": "code",
   "execution_count": 157,
   "metadata": {},
   "outputs": [
    {
     "data": {
      "text/plain": [
       "'!'"
      ]
     },
     "execution_count": 157,
     "metadata": {},
     "output_type": "execute_result"
    }
   ],
   "source": [
    "chr(33)\n",
    "# returns ascii"
   ]
  },
  {
   "cell_type": "code",
   "execution_count": 158,
   "metadata": {},
   "outputs": [
    {
     "name": "stdout",
     "output_type": "stream",
     "text": [
      "this 5 is (7, 'me') and {3, 6}\n"
     ]
    }
   ],
   "source": [
    "a = '5'\n",
    "b = (7,'me')\n",
    "c = {3,6}\n",
    "print(f'this {a} is {b} and {c}')"
   ]
  },
  {
   "cell_type": "code",
   "execution_count": 164,
   "metadata": {},
   "outputs": [
    {
     "data": {
      "text/plain": [
       "['bpple']"
      ]
     },
     "execution_count": 164,
     "metadata": {},
     "output_type": "execute_result"
    }
   ],
   "source": [
    "(\"apple   \").strip().replace('a', 'b').split()\n",
    "\n"
   ]
  },
  {
   "cell_type": "code",
   "execution_count": 166,
   "metadata": {},
   "outputs": [
    {
     "data": {
      "text/plain": [
       "2"
      ]
     },
     "execution_count": 166,
     "metadata": {},
     "output_type": "execute_result"
    }
   ],
   "source": [
    "(\"apple   \").strip().replace('a', 'b').count('p')"
   ]
  },
  {
   "cell_type": "code",
   "execution_count": 167,
   "metadata": {},
   "outputs": [
    {
     "data": {
      "text/plain": [
       "[1, 2, 3, 4]"
      ]
     },
     "execution_count": 167,
     "metadata": {},
     "output_type": "execute_result"
    }
   ],
   "source": [
    "[1,2] + [3,4] # concat"
   ]
  },
  {
   "cell_type": "code",
   "execution_count": 201,
   "metadata": {},
   "outputs": [
    {
     "data": {
      "text/plain": [
       "[1, 2, 3, 4, 1, 2, 3, 4]"
      ]
     },
     "execution_count": 201,
     "metadata": {},
     "output_type": "execute_result"
    }
   ],
   "source": [
    "listme = [1, 2, 3, 4] * 2 # repetition\n",
    "listme"
   ]
  },
  {
   "cell_type": "code",
   "execution_count": 202,
   "metadata": {},
   "outputs": [
    {
     "name": "stdout",
     "output_type": "stream",
     "text": [
      "1\n"
     ]
    }
   ],
   "source": [
    "if 3 in listme:\n",
    "    print(f\"{listme[0]}\")"
   ]
  },
  {
   "cell_type": "code",
   "execution_count": 215,
   "metadata": {},
   "outputs": [
    {
     "name": "stdout",
     "output_type": "stream",
     "text": [
      "1\n",
      "2\n",
      "3\n",
      "mum\n",
      "4\n",
      "1\n",
      "2\n",
      "3\n",
      "4\n"
     ]
    }
   ],
   "source": [
    "for i in listme:\n",
    "    print(f\"{i}\")"
   ]
  },
  {
   "cell_type": "code",
   "execution_count": 204,
   "metadata": {},
   "outputs": [
    {
     "data": {
      "text/plain": [
       "4"
      ]
     },
     "execution_count": 204,
     "metadata": {},
     "output_type": "execute_result"
    }
   ],
   "source": [
    "listme[-1]\n"
   ]
  },
  {
   "cell_type": "code",
   "execution_count": 205,
   "metadata": {},
   "outputs": [
    {
     "data": {
      "text/plain": [
       "3"
      ]
     },
     "execution_count": 205,
     "metadata": {},
     "output_type": "execute_result"
    }
   ],
   "source": [
    "listme[-2]\n"
   ]
  },
  {
   "cell_type": "code",
   "execution_count": 206,
   "metadata": {},
   "outputs": [
    {
     "data": {
      "text/plain": [
       "[1, 3]"
      ]
     },
     "execution_count": 206,
     "metadata": {},
     "output_type": "execute_result"
    }
   ],
   "source": [
    "listme[0:4:2]"
   ]
  },
  {
   "cell_type": "code",
   "execution_count": 207,
   "metadata": {},
   "outputs": [
    {
     "data": {
      "text/plain": [
       "[2]"
      ]
     },
     "execution_count": 207,
     "metadata": {},
     "output_type": "execute_result"
    }
   ],
   "source": [
    "listme[1:2]\n"
   ]
  },
  {
   "cell_type": "code",
   "execution_count": 208,
   "metadata": {},
   "outputs": [
    {
     "data": {
      "text/plain": [
       "[1, 2, 3, 4, 1, 2, 3, 4]"
      ]
     },
     "execution_count": 208,
     "metadata": {},
     "output_type": "execute_result"
    }
   ],
   "source": [
    "listme[:]"
   ]
  },
  {
   "cell_type": "code",
   "execution_count": 209,
   "metadata": {},
   "outputs": [
    {
     "data": {
      "text/plain": [
       "[1, 2]"
      ]
     },
     "execution_count": 209,
     "metadata": {},
     "output_type": "execute_result"
    }
   ],
   "source": [
    "listme[:2]"
   ]
  },
  {
   "cell_type": "code",
   "execution_count": 210,
   "metadata": {},
   "outputs": [
    {
     "data": {
      "text/plain": [
       "[3, 4]"
      ]
     },
     "execution_count": 210,
     "metadata": {},
     "output_type": "execute_result"
    }
   ],
   "source": [
    "listme[6:]"
   ]
  },
  {
   "cell_type": "code",
   "execution_count": 211,
   "metadata": {},
   "outputs": [
    {
     "data": {
      "text/plain": [
       "[4, 3, 2, 1, 4, 3, 2, 1]"
      ]
     },
     "execution_count": 211,
     "metadata": {},
     "output_type": "execute_result"
    }
   ],
   "source": [
    "listme[::-1]"
   ]
  },
  {
   "cell_type": "code",
   "execution_count": 212,
   "metadata": {},
   "outputs": [
    {
     "data": {
      "text/plain": [
       "[4, 2, 4, 2]"
      ]
     },
     "execution_count": 212,
     "metadata": {},
     "output_type": "execute_result"
    }
   ],
   "source": [
    "listme[::-2]"
   ]
  },
  {
   "cell_type": "code",
   "execution_count": 213,
   "metadata": {},
   "outputs": [
    {
     "data": {
      "text/plain": [
       "[1, 2, 3, 4, 1, 2, 3, 4]"
      ]
     },
     "execution_count": 213,
     "metadata": {},
     "output_type": "execute_result"
    }
   ],
   "source": [
    "listme"
   ]
  },
  {
   "cell_type": "code",
   "execution_count": 239,
   "metadata": {},
   "outputs": [
    {
     "name": "stdout",
     "output_type": "stream",
     "text": [
      "[1, 2, 3, 'why', 'mum', 4, 1, 2, 3, 4, 'love']\n",
      "[1, 2, 3, 'mum', 4, 1, 2, 3, 4, 'love']\n",
      "[1, 2, 3, 'mum', 1, 2, 3, 4, 'love']\n",
      "[1, 2, 3, 'mum', 1, 2, 3, 'love']\n",
      "['love', 3, 2, 1, 'mum', 3, 2, 1]\n",
      "[0, 1, 3, 5, 7]\n"
     ]
    }
   ],
   "source": [
    "listme = [1, 2, 3, 4, 1, 2, 3, 4]\n",
    "listme.insert(3, \"mum\")\n",
    "listme.insert(3, \"why\")\n",
    "listme.append('love')\n",
    "print(listme)\n",
    "listme.pop(3)\n",
    "print(listme)\n",
    "listme.remove(4)\n",
    "print(listme)\n",
    "del listme[-2]\n",
    "print(listme)\n",
    "listme.reverse()\n",
    "print(listme)\n",
    "newlist = [3,7,1,0,5]\n",
    "newlist.sort() # or use sorted fn as sorted(newlist) returns sorted new list - similarly reversed(newlist) returns reversed new list\n",
    "print(newlist)"
   ]
  },
  {
   "cell_type": "code",
   "execution_count": 199,
   "metadata": {},
   "outputs": [
    {
     "data": {
      "text/plain": [
       "[1, 2, 3, 'mum', 4]"
      ]
     },
     "execution_count": 199,
     "metadata": {},
     "output_type": "execute_result"
    }
   ],
   "source": [
    "listme2 = [1,2,3,4]\n",
    "listme2.insert(3, \"mum\")\n",
    "listme2"
   ]
  },
  {
   "cell_type": "code",
   "execution_count": 200,
   "metadata": {},
   "outputs": [
    {
     "data": {
      "text/plain": [
       "[1, 2, 3, 'why', 'mum', 4]"
      ]
     },
     "execution_count": 200,
     "metadata": {},
     "output_type": "execute_result"
    }
   ],
   "source": [
    "listme2.insert(3, \"why\")\n",
    "listme2"
   ]
  },
  {
   "cell_type": "code",
   "execution_count": 240,
   "metadata": {},
   "outputs": [],
   "source": [
    "# tuple - immutable - fast"
   ]
  },
  {
   "cell_type": "code",
   "execution_count": 243,
   "metadata": {},
   "outputs": [
    {
     "name": "stdout",
     "output_type": "stream",
     "text": [
      "20 10\n"
     ]
    }
   ],
   "source": [
    "a= 10\n",
    "b = 20\n",
    "a = a + b\n",
    "b = a - b\n",
    "a = a - b\n",
    "print(a,b)"
   ]
  },
  {
   "cell_type": "code",
   "execution_count": 252,
   "metadata": {},
   "outputs": [
    {
     "name": "stdout",
     "output_type": "stream",
     "text": [
      "20 10\n"
     ]
    }
   ],
   "source": [
    "a= 10\n",
    "b = 20\n",
    "a = a ^ b\n",
    "b = a ^ b\n",
    "a = a ^ b\n",
    "print(a,b)"
   ]
  },
  {
   "cell_type": "code",
   "execution_count": 253,
   "metadata": {},
   "outputs": [],
   "source": [
    "a = 1,2 # -> by default it becomes tuple"
   ]
  },
  {
   "cell_type": "code",
   "execution_count": 254,
   "metadata": {},
   "outputs": [
    {
     "ename": "ValueError",
     "evalue": "not enough values to unpack (expected 3, got 2)",
     "output_type": "error",
     "traceback": [
      "\u001b[0;31m---------------------------------------------------------------------------\u001b[0m",
      "\u001b[0;31mValueError\u001b[0m                                Traceback (most recent call last)",
      "Cell \u001b[0;32mIn[254], line 2\u001b[0m\n\u001b[1;32m      1\u001b[0m \u001b[38;5;66;03m# tuple requires equal lhs and rhs values\u001b[39;00m\n\u001b[0;32m----> 2\u001b[0m a, b, c \u001b[38;5;241m=\u001b[39m (\u001b[38;5;241m1\u001b[39m,\u001b[38;5;241m2\u001b[39m)\n",
      "\u001b[0;31mValueError\u001b[0m: not enough values to unpack (expected 3, got 2)"
     ]
    }
   ],
   "source": [
    "# tuple requires equal lhs and rhs values\n",
    "a, b, c = (1,2)"
   ]
  },
  {
   "cell_type": "code",
   "execution_count": 255,
   "metadata": {},
   "outputs": [],
   "source": [
    "a, b, c = (1,2, 5) "
   ]
  },
  {
   "cell_type": "code",
   "execution_count": 256,
   "metadata": {},
   "outputs": [
    {
     "name": "stdout",
     "output_type": "stream",
     "text": [
      "20 10\n"
     ]
    }
   ],
   "source": [
    "a= 10\n",
    "b = 20\n",
    "a, b = b, a\n",
    "print(a,b)"
   ]
  },
  {
   "cell_type": "code",
   "execution_count": 257,
   "metadata": {},
   "outputs": [],
   "source": [
    "# list fn converts tuple, string, range iterable objects to list\n",
    "# likewise for tuple"
   ]
  },
  {
   "cell_type": "code",
   "execution_count": 264,
   "metadata": {},
   "outputs": [
    {
     "name": "stdout",
     "output_type": "stream",
     "text": [
      "(5, 7)\n",
      "5 and 7\n"
     ]
    }
   ],
   "source": [
    "def returntwovalfn():\n",
    "    return 5,7 # returns tuple\n",
    "print(returntwovalfn())\n",
    "me, good = returntwovalfn() # tuple unpacked here\n",
    "print(f\"{me} and {good}\")"
   ]
  },
  {
   "cell_type": "code",
   "execution_count": 268,
   "metadata": {},
   "outputs": [
    {
     "data": {
      "text/plain": [
       "7"
      ]
     },
     "execution_count": 268,
     "metadata": {},
     "output_type": "execute_result"
    }
   ],
   "source": [
    "[1,2,3,-1,5,9,4,1,7].index(1,5)"
   ]
  },
  {
   "cell_type": "code",
   "execution_count": 271,
   "metadata": {},
   "outputs": [],
   "source": [
    "dict = {}\n",
    "# dict['roll-no'] = 1211\n",
    "# dict['name'] = 'Ravi'\n",
    "# dict['branch'] = 'CSE'"
   ]
  },
  {
   "cell_type": "code",
   "execution_count": 280,
   "metadata": {},
   "outputs": [
    {
     "name": "stdin",
     "output_type": "stream",
     "text": [
      " 2\n"
     ]
    }
   ],
   "source": [
    "students = []\n",
    "num = int(input().strip())"
   ]
  },
  {
   "cell_type": "code",
   "execution_count": 281,
   "metadata": {},
   "outputs": [
    {
     "name": "stdin",
     "output_type": "stream",
     "text": [
      " 1211\n",
      " Ravi\n",
      " CSE\n",
      " 333\n",
      " Kriti\n",
      " ECE\n"
     ]
    }
   ],
   "source": [
    "for i in range(num):\n",
    "    dict['roll-no'] = int(input().strip())\n",
    "    dict['name'] = input().strip()\n",
    "    dict['branch'] = input().strip()\n",
    "    students.append(dict.copy())"
   ]
  },
  {
   "cell_type": "code",
   "execution_count": 282,
   "metadata": {},
   "outputs": [
    {
     "name": "stdout",
     "output_type": "stream",
     "text": [
      "[{'roll-no': 1211, 'name': 'Ravi', 'branch': 'CSE'}, {'roll-no': 333, 'name': 'Kriti', 'branch': 'ECE'}]\n"
     ]
    }
   ],
   "source": [
    "print(students)"
   ]
  },
  {
   "cell_type": "code",
   "execution_count": 285,
   "metadata": {},
   "outputs": [],
   "source": [
    "# Key in dict are only of type - immutable data structures"
   ]
  },
  {
   "cell_type": "code",
   "execution_count": 290,
   "metadata": {},
   "outputs": [
    {
     "data": {
      "text/plain": [
       "{0: 5, 2: 7}"
      ]
     },
     "execution_count": 290,
     "metadata": {},
     "output_type": "execute_result"
    }
   ],
   "source": [
    "#List and dict comprehension - possible(NOT tuples though)\n",
    "tesl = {i: i+5 for i in range(3) if i%2 == 0}\n",
    "tesl"
   ]
  },
  {
   "cell_type": "code",
   "execution_count": 345,
   "metadata": {},
   "outputs": [],
   "source": [
    "# Before OOPS, code was executed line by line\n",
    "# OOPS Class - a blueprint of object\n",
    "# EAIP\n",
    "# Encapsulation - consolidate attributes of the class\n",
    "# Abstraction - signature of the behavior of the class\n",
    "# inheritance - extract common features to base class and then inherit base class to extend the features of base class to form a derived class\n",
    "# Polymorphism - a class with objects where each object could hold/run on different behaviors/methods(or mutually exclusive behaviors?)\n"
   ]
  },
  {
   "cell_type": "code",
   "execution_count": 304,
   "metadata": {},
   "outputs": [
    {
     "data": {
      "text/plain": [
       "True"
      ]
     },
     "execution_count": 304,
     "metadata": {},
     "output_type": "execute_result"
    }
   ],
   "source": [
    "# Be it int, float, func, OR be it a class(empty body as pass or a full fledged class) - everything in python is object --\n",
    "isinstance(tesl, object)\n",
    "isinstance(dict, object)\n",
    "isinstance(a, object)\n",
    "isinstance(print, object)"
   ]
  },
  {
   "cell_type": "code",
   "execution_count": 306,
   "metadata": {},
   "outputs": [],
   "source": [
    "# fn(start executing procedure), class objects(creates object) are having callable flag as true\n",
    "# int and float objects are having callable flag as false"
   ]
  },
  {
   "cell_type": "code",
   "execution_count": 309,
   "metadata": {},
   "outputs": [
    {
     "data": {
      "text/plain": [
       "str"
      ]
     },
     "execution_count": 309,
     "metadata": {},
     "output_type": "execute_result"
    }
   ],
   "source": [
    "# meta variable - entry point of python code\n",
    "__name__\n",
    "type(__name__)"
   ]
  },
  {
   "cell_type": "code",
   "execution_count": 313,
   "metadata": {},
   "outputs": [
    {
     "name": "stdout",
     "output_type": "stream",
     "text": [
      "<class '__main__.Person'>\n",
      "<__main__.Person object at 0x105d96210>\n"
     ]
    },
    {
     "data": {
      "text/plain": [
       "'0x105d96210'"
      ]
     },
     "execution_count": 313,
     "metadata": {},
     "output_type": "execute_result"
    }
   ],
   "source": [
    "class Person:\n",
    "    pass\n",
    "pers = Person()\n",
    "print(Person)\n",
    "print(pers) # class main has person object\n",
    "hex(id(pers))\n"
   ]
  },
  {
   "cell_type": "code",
   "execution_count": 315,
   "metadata": {},
   "outputs": [],
   "source": [
    "# every method inside class should have or require the context of the object - that's why we observe self in method definitions"
   ]
  },
  {
   "cell_type": "code",
   "execution_count": 325,
   "metadata": {},
   "outputs": [
    {
     "name": "stdout",
     "output_type": "stream",
     "text": [
      "driving Tesla\n",
      "driving Tesla\n"
     ]
    }
   ],
   "source": [
    "class Vehicle:\n",
    "    # __init__ controls init of the new instance. this is not a constructor. \n",
    "    # constructor is defined by __new__, which controls the creation of new instance\n",
    "    def __init__(self, name):\n",
    "        self.name = name\n",
    "    def drive(self):\n",
    "        print(f\"driving {self.name}\")\n",
    "\n",
    "tesla = Vehicle(\"Tesla\")\n",
    "tesla.drive()\n",
    "Vehicle.drive(tesla) # same thing as tesla.drive() in python\n"
   ]
  },
  {
   "cell_type": "code",
   "execution_count": 336,
   "metadata": {},
   "outputs": [],
   "source": [
    "# dunders or magic methods\n",
    "# lifetime of object - \n",
    "# create(__init__ gets called when created an obj), \n",
    "# delete(__del__ when deleted obj deliberately) ,\n",
    "# string(__str__(self))\n",
    "# add(tries internally to do: a + b == a.__add__(self, b), --> here, b can be 'any class' object since python is not type restricted.\n",
    "# subtract\n",
    "# a.__eq__(self, b) - overwrites original impl of dunders"
   ]
  },
  {
   "cell_type": "code",
   "execution_count": 343,
   "metadata": {},
   "outputs": [
    {
     "name": "stdout",
     "output_type": "stream",
     "text": [
      "apple\n",
      "banana\n",
      "banana\n",
      "orange\n",
      "hello"
     ]
    },
    {
     "data": {
      "text/plain": [
       "<__main__.Ostream at 0x105d894d0>"
      ]
     },
     "execution_count": 343,
     "metadata": {},
     "output_type": "execute_result"
    }
   ],
   "source": [
    "class Ostream:\n",
    "    classvar = \"apple\"\n",
    "    def __lshift__(self, val):\n",
    "        print(f'{val}', end = '')\n",
    "        return self\n",
    "cout = Ostream()\n",
    "print(cout.classvar)\n",
    "cout.classvar = 'banana'\n",
    "print(cout.classvar)\n",
    "cout1 = Ostream()\n",
    "cout1.classvar = 'orange'\n",
    "print(cout.classvar)\n",
    "print(cout1.classvar)\n",
    "cout << 'hello'"
   ]
  },
  {
   "cell_type": "code",
   "execution_count": 344,
   "metadata": {},
   "outputs": [],
   "source": [
    "# 3 mutable data structs\n",
    "# - List\n",
    "# - Dict\n",
    "# - Set\n",
    "# Class variables of type mutable data structs can be modified by all objects and share the address.\n",
    "# Class variables of type immutable data structs doesn't get modified \n",
    "# but can refer to an entire new value - like strings. like above example"
   ]
  },
  {
   "cell_type": "code",
   "execution_count": 370,
   "metadata": {},
   "outputs": [],
   "source": [
    "# Python doesn't support operator or any overloading, instead keep the latest overriden(replacing old method) method.\n",
    "# In inheritence, need to access base class method: simply do super().fn() or Class.fn(self) -> Same way applies to __init__\n",
    "# super() - return obj of base class"
   ]
  },
  {
   "cell_type": "code",
   "execution_count": 371,
   "metadata": {},
   "outputs": [],
   "source": [
    "# EAIP - Encapsulation, Abstraction, Inheritence, Polymorphism"
   ]
  },
  {
   "cell_type": "code",
   "execution_count": 390,
   "metadata": {},
   "outputs": [],
   "source": [
    "# method resolution order \n",
    "# diamond inheritance \n",
    "# Tree starts from the desired derived class, E (implies reversed tree)\n",
    "# \"DFS plus all child nodes of given node that have inherited this given node are traversed\" - c3 linearization in a cyclic graph"
   ]
  },
  {
   "cell_type": "code",
   "execution_count": 391,
   "metadata": {},
   "outputs": [],
   "source": [
    "# DFS on node and branches - first found is the answer/result in this case\n",
    "# DFS but doesn't support cyclic cases."
   ]
  },
  {
   "cell_type": "code",
   "execution_count": 3,
   "metadata": {},
   "outputs": [
    {
     "name": "stdout",
     "output_type": "stream",
     "text": [
      "20\n",
      "(<class '__main__.E'>, <class '__main__.B'>, <class '__main__.D'>, <class '__main__.C'>, <class '__main__.A'>, <class 'object'>)\n",
      "30\n",
      "(<class '__main__.F'>, <class '__main__.A'>, <class 'object'>)\n"
     ]
    }
   ],
   "source": [
    "class A:\n",
    "    x = 10\n",
    "    pass\n",
    "class B(A): # B and C are child nodes of A\n",
    "    pass\n",
    "class C(A):\n",
    "    x = 50\n",
    "    pass\n",
    "class D(C):\n",
    "    x = 20\n",
    "    pass\n",
    "class E(B, D):\n",
    "    pass\n",
    "class F(A):\n",
    "    x = 30\n",
    "print(E.x)\n",
    "print(E.__mro__)\n",
    "print(F.x)\n",
    "print(F.__mro__)"
   ]
  },
  {
   "cell_type": "code",
   "execution_count": 393,
   "metadata": {},
   "outputs": [],
   "source": [
    "#when kernel or shell closed -> all python executed code in past need to re-run \n",
    "# -> This gives requirement of Python modules - when crating applications"
   ]
  },
  {
   "cell_type": "code",
   "execution_count": 395,
   "metadata": {},
   "outputs": [],
   "source": [
    "# Jupyter notebook is essentially a json file which holds data that tells jupyter how to print data/this notebook out"
   ]
  },
  {
   "cell_type": "code",
   "execution_count": 396,
   "metadata": {},
   "outputs": [],
   "source": [
    "# .py file stored locally - though can be executed multiple times from start."
   ]
  },
  {
   "cell_type": "code",
   "execution_count": 398,
   "metadata": {},
   "outputs": [],
   "source": [
    "# There are integrated modules - like json - \n",
    "import json"
   ]
  },
  {
   "cell_type": "code",
   "execution_count": 410,
   "metadata": {},
   "outputs": [],
   "source": [
    "p = 1\n",
    "q = 1\n",
    "r = 1"
   ]
  },
  {
   "cell_type": "code",
   "execution_count": 415,
   "metadata": {},
   "outputs": [],
   "source": [
    "# Modules hold fn and classes and some file scope global vars - which can be shared those amongst different applications\n",
    "# they get imported to the file where module gets used. Example - main.py\n",
    "# import calculator \n",
    "# first try finding this module in predefined modules, otherwise look for calculator.py on the relative path to this main.py \n",
    "# print(calculator.add(5 + 7))\n",
    "# print(calculator.sub(12 - 7))\n",
    "#################################\n",
    "# from calculator import add, sub\n",
    "# from calculator import * # Not explicit enough, like a blackbox - not recommended\n",
    "# Good approach below\n",
    "# from calculator import (add as a,\n",
    "# sub as s,\n",
    "# mul as mu)\n",
    "# print(mu(5 * 7))\n",
    "##################################\n",
    "# it helps that any other fn named json/calculator in this file doesn't have to be changed all over in this file, \n",
    "# just simply create alias of the invoked module\n",
    "import json as js "
   ]
  },
  {
   "cell_type": "code",
   "execution_count": 416,
   "metadata": {},
   "outputs": [
    {
     "data": {
      "text/plain": [
       "module"
      ]
     },
     "execution_count": 416,
     "metadata": {},
     "output_type": "execute_result"
    }
   ],
   "source": [
    "type(json)\n"
   ]
  },
  {
   "cell_type": "code",
   "execution_count": 434,
   "metadata": {},
   "outputs": [
    {
     "name": "stdout",
     "output_type": "stream",
     "text": [
      "Hello mum\n"
     ]
    },
    {
     "name": "stdin",
     "output_type": "stream",
     "text": [
      " 4\n"
     ]
    },
    {
     "name": "stdout",
     "output_type": "stream",
     "text": [
      "4\n"
     ]
    }
   ],
   "source": [
    "#package(is folder) collection of modules/files\n",
    "# When package is directly imported, __init__ is required to initialize the package - can be empty?\n",
    "# from math import simple, complex # in main.py \n",
    "# from math.simple import add # in main.py \n",
    "\n",
    "# from math import *  # to import ALL from math package, to make this work, __init__.py require changes like below\n",
    "__all__ = ['simple', 'complex']\n",
    "#########\n",
    "# from math import * # in main.py \n",
    "\n",
    "\n",
    "################################\n",
    "# Whole module.py(when imported) is ran in the interpreter (even if only one functionality is used from it)\n",
    "\n",
    "\n",
    "# TO MAKE ANY FILE work as a script (like running a module file directly as a script), \n",
    "# if observed below section in any file, it helps explicit confirm that below molude is now used as a script rather than importing it.\n",
    "if __name__ == '__main__':\n",
    "    print(\"Hello mum\")\n",
    "    print(input())\n",
    "# this file can still be imported as module, just that, the above section wont get called when imported as a module."
   ]
  },
  {
   "cell_type": "code",
   "execution_count": 444,
   "metadata": {},
   "outputs": [
    {
     "name": "stdout",
     "output_type": "stream",
     "text": [
      "My mum\n",
      "My\n"
     ]
    }
   ],
   "source": [
    "file = open(\"readfile.txt\")\n",
    "print(file.read(9))\n",
    "file.close()"
   ]
  },
  {
   "cell_type": "code",
   "execution_count": 455,
   "metadata": {},
   "outputs": [
    {
     "data": {
      "text/plain": [
       "['My mum\\n', 'My pa\\n', 'My apple']"
      ]
     },
     "execution_count": 455,
     "metadata": {},
     "output_type": "execute_result"
    }
   ],
   "source": [
    "\n",
    "file = open(\"readfile.txt\")\n",
    "file.readlines()\n"
   ]
  },
  {
   "cell_type": "code",
   "execution_count": 456,
   "metadata": {},
   "outputs": [],
   "source": [
    "file.close()\n",
    "file = open(\"readfile.txt\")"
   ]
  },
  {
   "cell_type": "code",
   "execution_count": 457,
   "metadata": {},
   "outputs": [
    {
     "data": {
      "text/plain": [
       "'My mum\\n'"
      ]
     },
     "execution_count": 457,
     "metadata": {},
     "output_type": "execute_result"
    }
   ],
   "source": [
    "\n",
    "file.readline()"
   ]
  },
  {
   "cell_type": "code",
   "execution_count": 458,
   "metadata": {},
   "outputs": [
    {
     "data": {
      "text/plain": [
       "'My pa\\n'"
      ]
     },
     "execution_count": 458,
     "metadata": {},
     "output_type": "execute_result"
    }
   ],
   "source": [
    "\n",
    "file.readline()"
   ]
  },
  {
   "cell_type": "code",
   "execution_count": 459,
   "metadata": {},
   "outputs": [
    {
     "data": {
      "text/plain": [
       "'My apple'"
      ]
     },
     "execution_count": 459,
     "metadata": {},
     "output_type": "execute_result"
    }
   ],
   "source": [
    "\n",
    "file.readline()"
   ]
  },
  {
   "cell_type": "code",
   "execution_count": 460,
   "metadata": {},
   "outputs": [
    {
     "data": {
      "text/plain": [
       "''"
      ]
     },
     "execution_count": 460,
     "metadata": {},
     "output_type": "execute_result"
    }
   ],
   "source": [
    "file.readline()"
   ]
  },
  {
   "cell_type": "code",
   "execution_count": 461,
   "metadata": {},
   "outputs": [],
   "source": [
    "file.close()"
   ]
  },
  {
   "cell_type": "code",
   "execution_count": 463,
   "metadata": {},
   "outputs": [
    {
     "name": "stdout",
     "output_type": "stream",
     "text": [
      "19\n"
     ]
    }
   ],
   "source": [
    "file = open(\"writefile.txt\", \"w+\")\n",
    "print(file.write(\"My first file write\"))\n",
    "file.close()"
   ]
  },
  {
   "cell_type": "code",
   "execution_count": 465,
   "metadata": {},
   "outputs": [
    {
     "data": {
      "text/plain": [
       "['My mum\\n', 'My pa\\n', 'My apple']"
      ]
     },
     "execution_count": 465,
     "metadata": {},
     "output_type": "execute_result"
    }
   ],
   "source": [
    "file = open(\"readfile.txt\", \"r\")\n",
    "file.readlines()"
   ]
  },
  {
   "cell_type": "code",
   "execution_count": 466,
   "metadata": {},
   "outputs": [
    {
     "data": {
      "text/plain": [
       "2"
      ]
     },
     "execution_count": 466,
     "metadata": {},
     "output_type": "execute_result"
    }
   ],
   "source": [
    "file.seek(2)"
   ]
  },
  {
   "cell_type": "code",
   "execution_count": 467,
   "metadata": {},
   "outputs": [
    {
     "data": {
      "text/plain": [
       "[' mum\\n', 'My pa\\n', 'My apple']"
      ]
     },
     "execution_count": 467,
     "metadata": {},
     "output_type": "execute_result"
    }
   ],
   "source": [
    "file.readlines()\n"
   ]
  },
  {
   "cell_type": "code",
   "execution_count": 474,
   "metadata": {},
   "outputs": [
    {
     "name": "stdout",
     "output_type": "stream",
     "text": [
      "My mum\n",
      "\n",
      "My pa\n",
      "\n",
      "My apple\n"
     ]
    },
    {
     "data": {
      "text/plain": [
       "['um\\n', 'My pa\\n', 'My apple']"
      ]
     },
     "execution_count": 474,
     "metadata": {},
     "output_type": "execute_result"
    }
   ],
   "source": [
    "filedatalist = []\n",
    "with open(\"readfile.txt\", \"r\") as f:\n",
    "    # ease of not closing the file required\n",
    "    f.seek(4)\n",
    "    filedatalist = f.readlines()\n",
    "    f.seek(0)\n",
    "    line = f.readline()\n",
    "    while(line != ''):\n",
    "        print(line)\n",
    "        line = f.readline()\n",
    "        \n",
    "    \n",
    "filedatalist"
   ]
  },
  {
   "cell_type": "code",
   "execution_count": 480,
   "metadata": {},
   "outputs": [],
   "source": [
    "# Json objects returned from webserver\n",
    "# Need to share data b/w diff programming languages. Server side code in python. Browser running on Javascript in client system. \n",
    "# Needed common way of encoding my data to transfer my information\n",
    "# Old style: Encode in xml - text encoding method - in which we wrap/encode data in a format to make it readable for other applications\n",
    "# New style: Encode in json - similar to dictionaries in python"
   ]
  },
  {
   "cell_type": "code",
   "execution_count": 501,
   "metadata": {},
   "outputs": [
    {
     "name": "stdout",
     "output_type": "stream",
     "text": [
      "{\n",
      "    \"teacher\":\n",
      "    [\n",
      "        {\n",
      "            \"name\" : \"Amita\",\n",
      "            \"sub\" : \"French\",\n",
      "            \"id\" : 0\n",
      "        },\n",
      "        {\n",
      "            \"name\" : \"Mum\",\n",
      "            \"sub\" : \"Maths\",\n",
      "            \"id\" : 1\n",
      "        }\n",
      "    ],\n",
      "    \"student\":\n",
      "    [\n",
      "        {\n",
      "            \"name\" : \"KritiMalik\",\n",
      "            \"percentage\" : 80.5,\n",
      "            \"id\" : 5\n",
      "        },\n",
      "        {\n",
      "            \"name\" : \"Aadya\",\n",
      "            \"sub\" : 90.3,\n",
      "            \"id\" : 9\n",
      "        }\n",
      "    ]\n",
      "}\n",
      "{'teacher': [{'name': 'Amita', 'sub': 'French', 'id': 0}, {'name': 'Mum', 'sub': 'Maths', 'id': 1}], 'student': [{'name': 'KritiMalik', 'percentage': 80.5, 'id': 5}, {'name': 'Aadya', 'sub': 90.3, 'id': 9}]}\n"
     ]
    }
   ],
   "source": [
    "import json\n",
    "with open(\"SchoolMembers.json\", \"r\") as f: # observation: manual file creation is error prone\n",
    "    print(f.read())\n",
    "    f.seek(0) # SO IMP TO ADD - otherwise subsequent statements on file handler wont work!\n",
    "    jsondict = json.load(f) # deserialize data present in json file\n",
    "    print(jsondict)"
   ]
  },
  {
   "cell_type": "code",
   "execution_count": 506,
   "metadata": {},
   "outputs": [
    {
     "name": "stdout",
     "output_type": "stream",
     "text": [
      "{'teacher': [{'name': 'Amita', 'sub': 'French', 'id': 0}, {'name': 'Mum', 'sub': 'Maths', 'id': 1}], 'student': [{'name': 'KritiMalik', 'percentage': 80.5, 'id': 5}, {'name': 'Aadya', 'sub': 90.3, 'id': 9}]}\n"
     ]
    }
   ],
   "source": [
    "import json\n",
    "with open(\"SchoolMembers.json\", \"r\") as f:\n",
    "    jsonString = f.read()\n",
    "    jsondict = json.loads(jsonString) # Take input json string and convert it to dict\n",
    "    print(jsondict)"
   ]
  },
  {
   "cell_type": "code",
   "execution_count": 507,
   "metadata": {},
   "outputs": [
    {
     "name": "stdout",
     "output_type": "stream",
     "text": [
      "<class 'str'>\n"
     ]
    }
   ],
   "source": [
    "out = json.dumps(jsondict)\n",
    "print(type(out))"
   ]
  },
  {
   "cell_type": "code",
   "execution_count": 508,
   "metadata": {},
   "outputs": [],
   "source": [
    "with open(\"SchoolMembersGenerate.json\", \"w\") as f:\n",
    "    json.dump(jsondict, f)"
   ]
  },
  {
   "cell_type": "code",
   "execution_count": 509,
   "metadata": {},
   "outputs": [],
   "source": [
    "# similar to google search, when we try scraping data using python from web servers, parse json data using these methods."
   ]
  },
  {
   "cell_type": "code",
   "execution_count": 514,
   "metadata": {},
   "outputs": [],
   "source": [
    "# exception: errors detected during execution/run-time\n",
    "# try\n",
    "# except"
   ]
  },
  {
   "cell_type": "code",
   "execution_count": 524,
   "metadata": {},
   "outputs": [
    {
     "name": "stdout",
     "output_type": "stream",
     "text": [
      "5\n",
      "Value error\n",
      "Undefined result\n",
      "3\n",
      "Value error\n"
     ]
    }
   ],
   "source": [
    "def div(a, b):\n",
    "    try:\n",
    "        print(a//b)\n",
    "        print(int(\"jatin\"))\n",
    "    except ZeroDivisionError:\n",
    "        print(\"Undefined result\")\n",
    "    except ValueError:\n",
    "        print(\"Value error\")\n",
    "    except:\n",
    "        print(\"some exception thrown\")\n",
    "\n",
    "div(10,2)\n",
    "div(10,0)\n",
    "div(10,3)"
   ]
  },
  {
   "cell_type": "code",
   "execution_count": 531,
   "metadata": {},
   "outputs": [
    {
     "name": "stdout",
     "output_type": "stream",
     "text": [
      "5\n",
      "invalid literal for int() with base 10: 'jatin'\n",
      "<class 'ValueError'>\n",
      "integer division or modulo by zero\n",
      "<class 'ZeroDivisionError'>\n",
      "3\n",
      "invalid literal for int() with base 10: 'jatin'\n",
      "<class 'ValueError'>\n"
     ]
    }
   ],
   "source": [
    "def div(a, b):\n",
    "    try:\n",
    "        print(a//b)\n",
    "        print(int(\"jatin\"))\n",
    "    except Exception as e: # Catch all exceptions derived from this base class\n",
    "        print(e) # when an exception is generated/raised, an exeption object is created, which we access here\n",
    "        print(type(e))\n",
    "        # print(str(e)) # gives same result as print(e)\n",
    "\n",
    "div(10,2)\n",
    "div(10,0)\n",
    "div(10,3)"
   ]
  },
  {
   "cell_type": "code",
   "execution_count": 532,
   "metadata": {},
   "outputs": [
    {
     "name": "stdout",
     "output_type": "stream",
     "text": [
      "My first custom exception in python\n"
     ]
    }
   ],
   "source": [
    "try:\n",
    "    raise Exception(\"My first custom exception in python\")\n",
    "except Exception as e:\n",
    "    print(e)"
   ]
  },
  {
   "cell_type": "code",
   "execution_count": 534,
   "metadata": {},
   "outputs": [
    {
     "name": "stdout",
     "output_type": "stream",
     "text": [
      "('My first custom exception in python', 5, 10)\n",
      "('My first custom exception in python', 5, 10)\n"
     ]
    }
   ],
   "source": [
    "try:\n",
    "    a = 5\n",
    "    b = 10\n",
    "    raise Exception(\"My first custom exception in python\", a , b)\n",
    "except Exception as e:\n",
    "    print(e)\n",
    "    print(e.args)"
   ]
  },
  {
   "cell_type": "code",
   "execution_count": 541,
   "metadata": {},
   "outputs": [
    {
     "name": "stdout",
     "output_type": "stream",
     "text": [
      "My first custom exception in python 55 100\n",
      "('My first custom exception in python', 55, 100)\n"
     ]
    }
   ],
   "source": [
    "# Create custom error/exception class, which must derive from base exception\n",
    "class MyException(Exception):\n",
    "    def __init__(self, message, a, b):\n",
    "        self.message = message\n",
    "        self.a = a\n",
    "        self.b = b\n",
    "    def __str__(self):\n",
    "        return self.message + \" \" + str(a) + \" \" + str(b)\n",
    "\n",
    "try:\n",
    "    a = 55\n",
    "    b = 100\n",
    "    raise MyException(\"My first custom exception in python\", a , b)\n",
    "except Exception as e:\n",
    "    print(e)\n",
    "    print(e.args)"
   ]
  },
  {
   "cell_type": "code",
   "execution_count": 543,
   "metadata": {},
   "outputs": [],
   "source": [
    "# else block - ensures to execute when no exception occurs and when we strictly want something to execute when no exception is thrown\n",
    "# finally block - when we want to execute 'clean up of resources' code irrespective of whether exception is thrown or not"
   ]
  },
  {
   "cell_type": "code",
   "execution_count": 560,
   "metadata": {},
   "outputs": [
    {
     "name": "stdout",
     "output_type": "stream",
     "text": [
      "<class '_io.TextIOWrapper'>\n",
      "Success\n",
      "closing file\n"
     ]
    }
   ],
   "source": [
    "try:\n",
    "    f = open(\"SchoolMembers.json\" , 'r')\n",
    "    print(type(f))\n",
    "    # print(10/0)\n",
    "except:\n",
    "    print(\"handle exception here\")\n",
    "    # f.close()\n",
    "    # f = None\n",
    "else:\n",
    "    print(\"Success\")\n",
    "finally:\n",
    "    if f is not None:\n",
    "        print(\"closing file\")\n",
    "        f.close()"
   ]
  },
  {
   "cell_type": "code",
   "execution_count": 562,
   "metadata": {},
   "outputs": [
    {
     "name": "stdout",
     "output_type": "stream",
     "text": [
      "5\n"
     ]
    }
   ],
   "source": [
    "\n",
    "def TestQ():\n",
    "    try:\n",
    "        return 1\n",
    "    except:\n",
    "        return 2\n",
    "    else:\n",
    "        return 3\n",
    "    finally:\n",
    "        return 5 # always\n",
    "\n",
    "print(TestQ())"
   ]
  },
  {
   "cell_type": "code",
   "execution_count": 564,
   "metadata": {},
   "outputs": [
    {
     "name": "stdout",
     "output_type": "stream",
     "text": [
      "1\n"
     ]
    }
   ],
   "source": [
    "\n",
    "def TestQ():\n",
    "    try:\n",
    "        return 1\n",
    "    except:\n",
    "        return 2\n",
    "    else:\n",
    "        return 3\n",
    "\n",
    "print(TestQ()) # else block only executes when try block doesn't have return statement."
   ]
  },
  {
   "cell_type": "code",
   "execution_count": 566,
   "metadata": {},
   "outputs": [],
   "source": [
    "# with statement - is used when we have already pre-defined clean up action available"
   ]
  },
  {
   "cell_type": "code",
   "execution_count": 567,
   "metadata": {},
   "outputs": [],
   "source": [
    "# Custom with use - requires 2 dunders to be overwritten enter and exit"
   ]
  },
  {
   "cell_type": "code",
   "execution_count": 573,
   "metadata": {},
   "outputs": [
    {
     "name": "stdout",
     "output_type": "stream",
     "text": [
      "Obj init\n",
      "Entered here after obj creation\n",
      "10\n",
      "Exiting A obj before it's deletion\n",
      "with block ended already\n"
     ]
    }
   ],
   "source": [
    "class A:\n",
    "    def __init__(self, n):\n",
    "        self.n = n # Or, open file example\n",
    "        print('Obj init')\n",
    "\n",
    "    def __enter__(self):\n",
    "        print(\"Entered here after obj creation\")\n",
    "        return self\n",
    "\n",
    "    def __str__(self):\n",
    "        return str(self.n)\n",
    "\n",
    "    def __exit__(self, *args):\n",
    "        print(\"Exiting A obj before it's deletion\")\n",
    "\n",
    "with A(10) as aa:\n",
    "    print(aa)\n",
    "\n",
    "print(\"with block ended already\")"
   ]
  },
  {
   "cell_type": "code",
   "execution_count": 581,
   "metadata": {},
   "outputs": [
    {
     "name": "stdout",
     "output_type": "stream",
     "text": [
      "Obj init\n",
      "Entered here after obj creation\n",
      "10\n",
      "Exiting A obj before it's deletion\n",
      "(<class 'ZeroDivisionError'>, ZeroDivisionError('division by zero'), <traceback object at 0x105e3f280>)\n",
      "with block ended already\n"
     ]
    }
   ],
   "source": [
    "class A:\n",
    "    def __init__(self, n):\n",
    "        self.n = n # Or, open file example\n",
    "        print('Obj init')\n",
    "\n",
    "    def __enter__(self):\n",
    "        print(\"Entered here after obj creation\")\n",
    "        return self\n",
    "\n",
    "    def __str__(self):\n",
    "        return str(self.n)\n",
    "\n",
    "    def __exit__(self, *args):\n",
    "        print(\"Exiting A obj before it's deletion\")\n",
    "        # raise Exception(args) # WRONG: During handling of the above exception, another exception occurred:\n",
    "        print(args) # just like e.args\n",
    "        return True # means exception occured inside with block doesn't need to be raised outside with block as well\n",
    "        # return False # means exception occured inside with block need to be raised outside with block as well\n",
    "\n",
    "with A(10) as aa:\n",
    "    print(aa)\n",
    "    print(10/0)\n",
    "\n",
    "print(\"with block ended already\")"
   ]
  },
  {
   "cell_type": "code",
   "execution_count": 1,
   "metadata": {},
   "outputs": [
    {
     "name": "stdout",
     "output_type": "stream",
     "text": [
      "My message includes the variables\n"
     ]
    }
   ],
   "source": [
    "print( f'My message includes the variables')"
   ]
  },
  {
   "cell_type": "code",
   "execution_count": 3,
   "metadata": {},
   "outputs": [
    {
     "name": "stdin",
     "output_type": "stream",
     "text": [
      " 4\n"
     ]
    },
    {
     "name": "stdout",
     "output_type": "stream",
     "text": [
      "outstr = (((())))\n",
      "open_cnt = 4, close_cnt = 3, result = ['(((())))']\n",
      "open_cnt = 4, close_cnt = 2, result = ['(((())))']\n",
      "open_cnt = 4, close_cnt = 1, result = ['(((())))']\n",
      "open_cnt = 4, close_cnt = 0, result = ['(((())))']\n",
      "outstr = ((()()))\n",
      "open_cnt = 4, close_cnt = 3, result = ['((()()))']\n",
      "open_cnt = 4, close_cnt = 2, result = ['((()()))']\n",
      "open_cnt = 4, close_cnt = 1, result = ['((()()))']\n",
      "outstr = ((())())\n",
      "open_cnt = 4, close_cnt = 3, result = ['((())())']\n",
      "open_cnt = 4, close_cnt = 2, result = ['((())())']\n",
      "outstr = ((()))()\n",
      "open_cnt = 4, close_cnt = 3, result = ['((()))()']\n",
      "open_cnt = 3, close_cnt = 3, result = ['((()))()']\n",
      "open_cnt = 3, close_cnt = 2, result = ['((())())', '((()))()']\n",
      "open_cnt = 3, close_cnt = 1, result = ['((()()))', '((())())', '((()))()']\n",
      "open_cnt = 3, close_cnt = 0, result = ['(((())))', '((()()))', '((())())', '((()))()']\n",
      "outstr = (()(()))\n",
      "open_cnt = 4, close_cnt = 3, result = ['(()(()))']\n",
      "open_cnt = 4, close_cnt = 2, result = ['(()(()))']\n",
      "open_cnt = 4, close_cnt = 1, result = ['(()(()))']\n",
      "outstr = (()()())\n",
      "open_cnt = 4, close_cnt = 3, result = ['(()()())']\n",
      "open_cnt = 4, close_cnt = 2, result = ['(()()())']\n",
      "outstr = (()())()\n",
      "open_cnt = 4, close_cnt = 3, result = ['(()())()']\n",
      "open_cnt = 3, close_cnt = 3, result = ['(()())()']\n",
      "open_cnt = 3, close_cnt = 2, result = ['(()()())', '(()())()']\n",
      "open_cnt = 3, close_cnt = 1, result = ['(()(()))', '(()()())', '(()())()']\n",
      "outstr = (())(())\n",
      "open_cnt = 4, close_cnt = 3, result = ['(())(())']\n",
      "open_cnt = 4, close_cnt = 2, result = ['(())(())']\n",
      "outstr = (())()()\n",
      "open_cnt = 4, close_cnt = 3, result = ['(())()()']\n",
      "open_cnt = 3, close_cnt = 3, result = ['(())()()']\n",
      "open_cnt = 3, close_cnt = 2, result = ['(())(())', '(())()()']\n",
      "open_cnt = 2, close_cnt = 2, result = ['(())(())', '(())()()']\n",
      "open_cnt = 2, close_cnt = 1, result = ['(()(()))', '(()()())', '(()())()', '(())(())', '(())()()']\n",
      "open_cnt = 2, close_cnt = 0, result = ['(((())))', '((()()))', '((())())', '((()))()', '(()(()))', '(()()())', '(()())()', '(())(())', '(())()()']\n",
      "outstr = ()((()))\n",
      "open_cnt = 4, close_cnt = 3, result = ['()((()))']\n",
      "open_cnt = 4, close_cnt = 2, result = ['()((()))']\n",
      "open_cnt = 4, close_cnt = 1, result = ['()((()))']\n",
      "outstr = ()(()())\n",
      "open_cnt = 4, close_cnt = 3, result = ['()(()())']\n",
      "open_cnt = 4, close_cnt = 2, result = ['()(()())']\n",
      "outstr = ()(())()\n",
      "open_cnt = 4, close_cnt = 3, result = ['()(())()']\n",
      "open_cnt = 3, close_cnt = 3, result = ['()(())()']\n",
      "open_cnt = 3, close_cnt = 2, result = ['()(()())', '()(())()']\n",
      "open_cnt = 3, close_cnt = 1, result = ['()((()))', '()(()())', '()(())()']\n",
      "outstr = ()()(())\n",
      "open_cnt = 4, close_cnt = 3, result = ['()()(())']\n",
      "open_cnt = 4, close_cnt = 2, result = ['()()(())']\n",
      "outstr = ()()()()\n",
      "open_cnt = 4, close_cnt = 3, result = ['()()()()']\n",
      "open_cnt = 3, close_cnt = 3, result = ['()()()()']\n",
      "open_cnt = 3, close_cnt = 2, result = ['()()(())', '()()()()']\n",
      "open_cnt = 2, close_cnt = 2, result = ['()()(())', '()()()()']\n",
      "open_cnt = 2, close_cnt = 1, result = ['()((()))', '()(()())', '()(())()', '()()(())', '()()()()']\n",
      "open_cnt = 1, close_cnt = 1, result = ['()((()))', '()(()())', '()(())()', '()()(())', '()()()()']\n",
      "open_cnt = 1, close_cnt = 0, result = ['(((())))', '((()()))', '((())())', '((()))()', '(()(()))', '(()()())', '(()())()', '(())(())', '(())()()', '()((()))', '()(()())', '()(())()', '()()(())', '()()()()']\n",
      "open_cnt = 0, close_cnt = 0, result = ['(((())))', '((()()))', '((())())', '((()))()', '(()(()))', '(()()())', '(()())()', '(())(())', '(())()()', '()((()))', '()(()())', '()(())()', '()()(())', '()()()()']\n"
     ]
    },
    {
     "data": {
      "text/plain": [
       "['(((())))',\n",
       " '((()()))',\n",
       " '((())())',\n",
       " '((()))()',\n",
       " '(()(()))',\n",
       " '(()()())',\n",
       " '(()())()',\n",
       " '(())(())',\n",
       " '(())()()',\n",
       " '()((()))',\n",
       " '()(()())',\n",
       " '()(())()',\n",
       " '()()(())',\n",
       " '()()()()']"
      ]
     },
     "execution_count": 3,
     "metadata": {},
     "output_type": "execute_result"
    }
   ],
   "source": [
    "def n_balanced_parentheses_impl(user_input, open_cnt, close_cnt, outstr):\n",
    "    result = []\n",
    "    if(open_cnt == user_input and close_cnt == user_input):\n",
    "        print(f'outstr = {outstr}')\n",
    "        return [outstr]\n",
    "    if(open_cnt != user_input):\n",
    "        result = result + (n_balanced_parentheses_impl(user_input, open_cnt+1, close_cnt, outstr + '('))\n",
    "    if(open_cnt > close_cnt):\n",
    "        result = result + (n_balanced_parentheses_impl(user_input, open_cnt, close_cnt+1, outstr + ')'))\n",
    "    print(f'open_cnt = {open_cnt}, close_cnt = {close_cnt}, result = {result}')\n",
    "    return result\n",
    "\n",
    "def n_balanced_parentheses(user_input):\n",
    "    return n_balanced_parentheses_impl(user_input, 0, 0, \"\")\n",
    "\n",
    "user_input = int(input().strip())\n",
    "n_balanced_parentheses(user_input)\n"
   ]
  },
  {
   "cell_type": "code",
   "execution_count": 7,
   "metadata": {},
   "outputs": [
    {
     "name": "stdout",
     "output_type": "stream",
     "text": [
      "Enter input:\n"
     ]
    },
    {
     "name": "stdin",
     "output_type": "stream",
     "text": [
      " 1\n"
     ]
    },
    {
     "name": "stdout",
     "output_type": "stream",
     "text": [
      "1\n",
      "[1]\n"
     ]
    },
    {
     "name": "stdin",
     "output_type": "stream",
     "text": [
      " 2\n"
     ]
    },
    {
     "name": "stdout",
     "output_type": "stream",
     "text": [
      "2\n",
      "[1, 2]\n"
     ]
    },
    {
     "name": "stdin",
     "output_type": "stream",
     "text": [
      " 88\n"
     ]
    },
    {
     "name": "stdout",
     "output_type": "stream",
     "text": [
      "88\n",
      "[1, 2, 88]\n"
     ]
    },
    {
     "name": "stdin",
     "output_type": "stream",
     "text": [
      " -100\n"
     ]
    },
    {
     "name": "stdout",
     "output_type": "stream",
     "text": [
      "-100\n",
      "[1, 2, 88, -100]\n"
     ]
    },
    {
     "name": "stdin",
     "output_type": "stream",
     "text": [
      " 49\n"
     ]
    },
    {
     "name": "stdout",
     "output_type": "stream",
     "text": [
      "49\n",
      "[1, 2, 88, -100, 49]\n"
     ]
    },
    {
     "name": "stdin",
     "output_type": "stream",
     "text": [
      " \n"
     ]
    },
    {
     "name": "stdout",
     "output_type": "stream",
     "text": [
      "1\n",
      "2\n",
      "88\n"
     ]
    }
   ],
   "source": [
    "def printPositiveNumbers():\n",
    "    numlist = []\n",
    "    print(\"Enter input:\")\n",
    "    while True:\n",
    "        try:\n",
    "            line = input()\n",
    "            if(line == ''):\n",
    "                break\n",
    "            num = int(line.strip())\n",
    "            print(num)\n",
    "        except ValueError:\n",
    "            print(\"Sorry, I didn't understand that.\")\n",
    "            continue\n",
    "        numlist.append(num)\n",
    "        print(numlist)\n",
    "    sum = 0\n",
    "    for num in numlist:\n",
    "        sum = sum + num\n",
    "        if(sum < 0):\n",
    "            break\n",
    "        print(num)\n",
    "printPositiveNumbers()"
   ]
  },
  {
   "cell_type": "code",
   "execution_count": 10,
   "metadata": {},
   "outputs": [
    {
     "name": "stdout",
     "output_type": "stream",
     "text": [
      "Enter input:\n"
     ]
    },
    {
     "name": "stdin",
     "output_type": "stream",
     "text": [
      " 1 2\n"
     ]
    },
    {
     "name": "stdout",
     "output_type": "stream",
     "text": [
      "[1, 2]\n",
      "[1, 2]\n"
     ]
    },
    {
     "name": "stdin",
     "output_type": "stream",
     "text": [
      " 88 -100\n"
     ]
    },
    {
     "name": "stdout",
     "output_type": "stream",
     "text": [
      "[88, -100]\n",
      "[1, 2, 88, -100]\n"
     ]
    },
    {
     "name": "stdin",
     "output_type": "stream",
     "text": [
      " 49\n"
     ]
    },
    {
     "name": "stdout",
     "output_type": "stream",
     "text": [
      "[49]\n",
      "[1, 2, 88, -100, 49]\n"
     ]
    },
    {
     "name": "stdin",
     "output_type": "stream",
     "text": [
      " \n"
     ]
    },
    {
     "name": "stdout",
     "output_type": "stream",
     "text": [
      "1\n",
      "2\n",
      "88\n"
     ]
    }
   ],
   "source": [
    "def printPositiveNumbers2():\n",
    "    print(\"Enter input:\")\n",
    "    numlist = []\n",
    "    while True:\n",
    "        try:\n",
    "            line = input()\n",
    "            if(line == ''):\n",
    "                break\n",
    "            numlist2 = [int(x) for x in line.strip().split(' ')]\n",
    "            print(numlist2)\n",
    "        except ValueError:\n",
    "            print(\"Sorry, I didn't understand that.\")\n",
    "            continue\n",
    "        numlist = numlist + numlist2\n",
    "        print(numlist)\n",
    "    sum = 0\n",
    "    for num in numlist:\n",
    "        sum = sum + num\n",
    "        if(sum < 0):\n",
    "            break\n",
    "        print(num)\n",
    "printPositiveNumbers2()"
   ]
  },
  {
   "cell_type": "code",
   "execution_count": 3,
   "metadata": {},
   "outputs": [
    {
     "name": "stdin",
     "output_type": "stream",
     "text": [
      " 5\n"
     ]
    },
    {
     "name": "stdout",
     "output_type": "stream",
     "text": [
      "1 2 3 4 5 \n",
      "1 2 3 4 * \n",
      "1 2 3 * * * \n",
      "1 2 * * * * * \n",
      "1 * * * * * * * \n"
     ]
    }
   ],
   "source": [
    "def printPattern():\n",
    "    num = int(input().strip())\n",
    "    for i in range(num):\n",
    "        val = 0\n",
    "        k = num\n",
    "        startNewIdx = 0\n",
    "        for j in range(num):\n",
    "            startNewIdx = j\n",
    "            val = val + 1\n",
    "            if(num-i == j):\n",
    "                break\n",
    "            print(f'{val} ',  end=\"\")\n",
    "        k = startNewIdx\n",
    "        while (k < startNewIdx + (2 * i - 1)):\n",
    "            print(f'* ',  end=\"\")\n",
    "            k = k + 1\n",
    "        print(\"\\n\",  end=\"\")\n",
    "printPattern()\n",
    "            \n",
    "            "
   ]
  },
  {
   "cell_type": "code",
   "execution_count": 3,
   "metadata": {
    "scrolled": true
   },
   "outputs": [
    {
     "name": "stdin",
     "output_type": "stream",
     "text": [
      " 1\n",
      " 1\n"
     ]
    },
    {
     "name": "stdout",
     "output_type": "stream",
     "text": [
      "1 --- [1]\n",
      "1\n",
      "True\n"
     ]
    }
   ],
   "source": [
    "def canSplitInTwoSeqsCheck():\n",
    "    numElem = int(input().strip())\n",
    "    elems = []\n",
    "    for i in range(numElem):\n",
    "        elems.append(int(input().strip()))\n",
    "    print(f'{numElem} --- {elems}')\n",
    "\n",
    "    if elems is None:\n",
    "        return True\n",
    "\n",
    "    curr = 0\n",
    "    chkpoint = 0\n",
    "    for i in range(len(elems)):\n",
    "        chkpoint = i\n",
    "        if curr > elems[i]:\n",
    "            break\n",
    "        curr = elems[i]\n",
    "\n",
    "    j = chkpoint + 1\n",
    "    print(j)\n",
    "    curr = elems[chkpoint]\n",
    "    while(j < len(elems)):\n",
    "        if curr < elems[i]:\n",
    "            return False\n",
    "        curr = elems[i]\n",
    "        j = j + 1\n",
    "       \n",
    "    return True\n",
    "    # 1 2 3 4 9 8 7 6\n",
    "\n",
    "ans = canSplitInTwoSeqsCheck()\n",
    "print(ans)"
   ]
  },
  {
   "cell_type": "code",
   "execution_count": 25,
   "metadata": {
    "scrolled": true
   },
   "outputs": [
    {
     "name": "stdin",
     "output_type": "stream",
     "text": [
      " 3\n",
      " 1\n",
      " 9\n",
      " 25\n"
     ]
    },
    {
     "name": "stdout",
     "output_type": "stream",
     "text": [
      "(0, 1) \n",
      "(0, 3) \n",
      "(0, 5) (3, 4) \n"
     ]
    }
   ],
   "source": [
    "def printAIntegerPairs():\n",
    "    T = int(input().strip())\n",
    "    A_list = []\n",
    "    for test_num in range(T):\n",
    "        A_list.append(int(input().strip()))\n",
    "    # print(A_list)\n",
    "    result = []\n",
    "    for test_num in range(T):\n",
    "        # print(A_list[test_num])\n",
    "        result.append(list())\n",
    "        a = 0\n",
    "        aSquare = a*a\n",
    "        while(aSquare <= A_list[test_num]):\n",
    "            b = a\n",
    "            rem = A_list[test_num] - aSquare\n",
    "            bSquare = b*b\n",
    "            while(bSquare <= rem):\n",
    "                # print(\"/********/\")\n",
    "                # print(rem)\n",
    "                if(bSquare == rem):\n",
    "                    result[test_num].append(tuple((a, b)))\n",
    "                    # print(result)\n",
    "                    break                \n",
    "                b = b + 1\n",
    "                bSquare = b*b\n",
    "                # print(bSquare)\n",
    "            a = a + 1\n",
    "            aSquare = a*a\n",
    "    # print(\"/********/\")\n",
    "    return result\n",
    "res = printAIntegerPairs()\n",
    "for eachResult in res:\n",
    "    for out in eachResult:\n",
    "        print(f'{out} ', end = '')\n",
    "    print(f'\\n', end = '')\n",
    "        "
   ]
  },
  {
   "cell_type": "code",
   "execution_count": 3,
   "metadata": {},
   "outputs": [
    {
     "data": {
      "text/plain": [
       "25"
      ]
     },
     "execution_count": 3,
     "metadata": {},
     "output_type": "execute_result"
    }
   ],
   "source": [
    "3\n",
    "1\n",
    "9\n",
    "25"
   ]
  },
  {
   "cell_type": "code",
   "execution_count": 29,
   "metadata": {},
   "outputs": [
    {
     "name": "stdin",
     "output_type": "stream",
     "text": [
      " 2\n"
     ]
    },
    {
     "name": "stdout",
     "output_type": "stream",
     "text": [
      "Prime\n"
     ]
    }
   ],
   "source": [
    "class Solution:\n",
    "    # @param A : integer\n",
    "    # @return an integer\n",
    "    def isPrime(self, A):\n",
    "        return self.isPrimeCheck(A)\n",
    "    def isPrimeCheck(self, A):\n",
    "        divisor = 2\n",
    "        if A == 1:\n",
    "            return 0\n",
    "        maxDivisor = A**0.5\n",
    "        while(divisor <= maxDivisor and A != 2):\n",
    "            if A % divisor == 0:\n",
    "                return 0\n",
    "            divisor = divisor + 1\n",
    "        return 1\n",
    "def checkPrime():\n",
    "    num = int(input().strip())\n",
    "    sol = Solution()\n",
    "    if(sol.isPrimeCheck(num)):\n",
    "        return \"Prime\"\n",
    "    return \"Not Prime\"\n",
    "\n",
    "print(checkPrime())\n",
    "\n",
    "\n"
   ]
  },
  {
   "cell_type": "markdown",
   "metadata": {},
   "source": [
    "###SOLVED IN COURSE IDE\n"
   ]
  },
  {
   "cell_type": "code",
   "execution_count": 31,
   "metadata": {},
   "outputs": [
    {
     "name": "stdin",
     "output_type": "stream",
     "text": [
      " 3\n"
     ]
    },
    {
     "name": "stdout",
     "output_type": "stream",
     "text": [
      "()()()\n",
      "()(())\n",
      "(())()\n",
      "(()())\n",
      "((()))\n"
     ]
    }
   ],
   "source": [
    "def n_balanced_parentheses_impl(user_input, open_cnt, close_cnt, outstr):\n",
    "    result = []\n",
    "    if(open_cnt == user_input and close_cnt == user_input):\n",
    "        # print(f'outstr = {outstr}')\n",
    "        return [outstr]\n",
    "    if(open_cnt > close_cnt):\n",
    "        result = result + (n_balanced_parentheses_impl(user_input, open_cnt, close_cnt+1, outstr + ')'))\n",
    "    if(open_cnt != user_input):\n",
    "        result = result + (n_balanced_parentheses_impl(user_input, open_cnt+1, close_cnt, outstr + '('))\n",
    "    # print(f'open_cnt = {open_cnt}, close_cnt = {close_cnt}, result = {result}')\n",
    "    return result\n",
    "\n",
    "def n_balanced_parentheses(user_input):\n",
    "    return n_balanced_parentheses_impl(user_input, 0, 0, \"\")\n",
    "\n",
    "user_input = int(input().strip())\n",
    "result = n_balanced_parentheses(user_input)\n",
    "for str in result:\n",
    "\tprint(str)"
   ]
  },
  {
   "cell_type": "code",
   "execution_count": 32,
   "metadata": {},
   "outputs": [
    {
     "name": "stdin",
     "output_type": "stream",
     "text": [
      " 1\n",
      " 2\n",
      " 3\n",
      " \n"
     ]
    },
    {
     "name": "stdout",
     "output_type": "stream",
     "text": [
      "1\n",
      "2\n",
      "3\n"
     ]
    }
   ],
   "source": [
    "def printPositiveNumbers2():\n",
    "    # print(\"Enter input:\")\n",
    "    numlist = []\n",
    "    while True:\n",
    "        try:\n",
    "            # print(\"New Read\")\n",
    "            line = input()\n",
    "            # print(line)\n",
    "            if(line == ''):\n",
    "                break\n",
    "            numlist2 = [int(x) for x in line.strip().split(' ')]\n",
    "            # print(numlist2)\n",
    "        except ValueError:\n",
    "            print(\"Sorry, I didn't understand that - ValueError\")\n",
    "            continue\n",
    "        except EOFError:\n",
    "            # print(\"Got EOFError\")\n",
    "            break\n",
    "        numlist = numlist + numlist2\n",
    "        # print(numlist)\n",
    "    # print(\"Input stored\")\n",
    "    # print(numlist)\n",
    "    sum = 0\n",
    "    for num in numlist:\n",
    "        sum = sum + num\n",
    "        if(sum < 0):\n",
    "            break\n",
    "        print(num)\n",
    "\n",
    "# print(\"Hello\")\n",
    "printPositiveNumbers2()"
   ]
  },
  {
   "cell_type": "code",
   "execution_count": 33,
   "metadata": {},
   "outputs": [
    {
     "name": "stdin",
     "output_type": "stream",
     "text": [
      " 6\n"
     ]
    },
    {
     "name": "stdout",
     "output_type": "stream",
     "text": [
      "1 2 3 4 5 6 \n",
      "1 2 3 4 5 * \n",
      "1 2 3 4 * * * \n",
      "1 2 3 * * * * * \n",
      "1 2 * * * * * * * \n",
      "1 * * * * * * * * * \n"
     ]
    }
   ],
   "source": [
    "def printPattern():\n",
    "    num = int(input().strip())\n",
    "    for i in range(num):\n",
    "        val = 0\n",
    "        k = num\n",
    "        startNewIdx = 0\n",
    "        for j in range(num):\n",
    "            startNewIdx = j\n",
    "            val = val + 1\n",
    "            if(num-i == j):\n",
    "                break\n",
    "            print(f'{val} ',  end=\"\")\n",
    "        k = startNewIdx\n",
    "        while (k < startNewIdx + (2 * i - 1)):\n",
    "            print(f'* ',  end=\"\")\n",
    "            k = k + 1\n",
    "        print(\"\\n\",  end=\"\")\n",
    "printPattern()"
   ]
  },
  {
   "cell_type": "code",
   "execution_count": 35,
   "metadata": {},
   "outputs": [
    {
     "name": "stdin",
     "output_type": "stream",
     "text": [
      " 1\n",
      " 2\n"
     ]
    },
    {
     "name": "stdout",
     "output_type": "stream",
     "text": [
      "true\n"
     ]
    }
   ],
   "source": [
    "def canSplitInTwoSeqsCheck():\n",
    "    numElem = int(input().strip())\n",
    "    elems = []\n",
    "    for i in range(numElem):\n",
    "        elems.append(int(input().strip()))\n",
    "    # print(f'{numElem} --- {elems}')\n",
    "\n",
    "    if elems is None:\n",
    "        return \"true\"\n",
    "\n",
    "    curr = elems[0]\n",
    "    chkpoint = 0\n",
    "    i = 1\n",
    "    while(i < len(elems)):\n",
    "        chkpoint = i\n",
    "        if curr == elems[i]:\n",
    "            return \"false\"\n",
    "        if curr < elems[i]:\n",
    "            curr = elems[i]\n",
    "            break\n",
    "        curr = elems[i]\n",
    "        i = i + 1\n",
    "\n",
    "    j = chkpoint + 1\n",
    "    # print(j)\n",
    "    while(j < len(elems)):\n",
    "        if curr >= elems[j]:\n",
    "            return \"false\"\n",
    "        curr = elems[j]\n",
    "        j = j + 1\n",
    "\n",
    "    if j != len(elems):\n",
    "\t    return \"false\"\n",
    "    return \"true\"\n",
    "    \n",
    "\n",
    "ans = canSplitInTwoSeqsCheck()\n",
    "print(ans)"
   ]
  },
  {
   "cell_type": "code",
   "execution_count": 36,
   "metadata": {},
   "outputs": [
    {
     "name": "stdin",
     "output_type": "stream",
     "text": [
      " 1\n",
      " 25\n"
     ]
    },
    {
     "name": "stdout",
     "output_type": "stream",
     "text": [
      "(0,5) (3,4) \n"
     ]
    }
   ],
   "source": [
    "def printAIntegerPairs():\n",
    "    T = int(input().strip())\n",
    "    A_list = []\n",
    "    for test_num in range(T):\n",
    "        A_list.append(int(input().strip()))\n",
    "    # print(A_list)\n",
    "    result = []\n",
    "    for test_num in range(T):\n",
    "        # print(A_list[test_num])\n",
    "        result.append(list())\n",
    "        a = 0\n",
    "        aSquare = a*a\n",
    "        while(aSquare <= A_list[test_num]):\n",
    "            b = a\n",
    "            rem = A_list[test_num] - aSquare\n",
    "            bSquare = b*b\n",
    "            while(bSquare <= rem):\n",
    "                # print(\"/********/\")\n",
    "                # print(rem)\n",
    "                if(bSquare == rem):\n",
    "                    result[test_num].append(tuple((a, b)))\n",
    "                    # print(result)\n",
    "                    break                \n",
    "                b = b + 1\n",
    "                bSquare = b*b\n",
    "                # print(bSquare)\n",
    "            a = a + 1\n",
    "            aSquare = a*a\n",
    "    # print(\"/********/\")\n",
    "    return result\n",
    "res = printAIntegerPairs()\n",
    "for eachResult in res:\n",
    "    for out in eachResult:\n",
    "        print(f'({out[0]},{out[1]}) ', end = '')\n",
    "    print(f'\\n', end = '')"
   ]
  },
  {
   "cell_type": "code",
   "execution_count": null,
   "metadata": {},
   "outputs": [],
   "source": []
  },
  {
   "cell_type": "code",
   "execution_count": null,
   "metadata": {},
   "outputs": [],
   "source": []
  }
 ],
 "metadata": {
  "kernelspec": {
   "display_name": "Python 3 (ipykernel)",
   "language": "python",
   "name": "python3"
  },
  "language_info": {
   "codemirror_mode": {
    "name": "ipython",
    "version": 3
   },
   "file_extension": ".py",
   "mimetype": "text/x-python",
   "name": "python",
   "nbconvert_exporter": "python",
   "pygments_lexer": "ipython3",
   "version": "3.11.5"
  }
 },
 "nbformat": 4,
 "nbformat_minor": 4
}
